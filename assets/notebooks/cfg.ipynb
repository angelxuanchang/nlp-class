{
 "cells": [
  {
   "cell_type": "markdown",
   "metadata": {},
   "source": [
    "# Context-free Grammars"
   ]
  },
  {
   "cell_type": "markdown",
   "metadata": {},
   "source": [
    "We will use some utilities from [NLTK](http://www.nltk.org/). This code is meant for demos and I would not use it in any kind of production environment. Even in Python, it is better to reimplement some of these algorithms to ensure correctness and speed."
   ]
  },
  {
   "cell_type": "code",
   "execution_count": 77,
   "metadata": {},
   "outputs": [],
   "source": [
    "import nltk\n",
    "from nltk import CFG, PCFG\n",
    "from nltk.parse import pchart\n",
    "import sys, re"
   ]
  },
  {
   "cell_type": "markdown",
   "metadata": {},
   "source": [
    "We need some utility functions to make it easier to work with the NLTK Context-free grammar (CFG) API functions."
   ]
  },
  {
   "cell_type": "code",
   "execution_count": 78,
   "metadata": {},
   "outputs": [],
   "source": [
    "def strip_comment(s):\n",
    "    \"\"\"Remove comments from a string containing nltk CFG\"\"\"\n",
    "    return re.sub(r'#.*?$', \"\", s, flags=re.MULTILINE)\n",
    "\n",
    "def print_grammar(grammar):\n",
    "    print(\"Start:\", grammar.start(), file=sys.stderr)\n",
    "    print(\"Productions:\", grammar.productions(), file=sys.stderr)\n",
    "\n",
    "def print_all_trees(parser, inp):\n",
    "    parser = nltk.ChartParser(grammar)\n",
    "    for (i,tree) in enumerate(parser.parse(inp.split()), start=1):\n",
    "        print(\"{}:\".format(i))\n",
    "        print(tree)"
   ]
  },
  {
   "cell_type": "code",
   "execution_count": 79,
   "metadata": {},
   "outputs": [
    {
     "name": "stdout",
     "output_type": "stream",
     "text": [
      "1:\n",
      "(N (N (N (N natural) (N language)) (N learning)) (N course))\n",
      "2:\n",
      "(N (N (N natural) (N (N language) (N learning))) (N course))\n",
      "3:\n",
      "(N (N natural) (N (N (N language) (N learning)) (N course)))\n",
      "4:\n",
      "(N (N natural) (N (N language) (N (N learning) (N course))))\n",
      "5:\n",
      "(N (N (N natural) (N language)) (N (N learning) (N course)))\n"
     ]
    },
    {
     "name": "stderr",
     "output_type": "stream",
     "text": [
      "Start: N\n",
      "Productions: [N -> N N, N -> 'natural', N -> 'language', N -> 'learning', N -> 'course']\n"
     ]
    }
   ],
   "source": [
    "grammar = CFG.fromstring(\"\"\"\n",
    "N -> N N | 'natural' | 'language' | 'learning' | 'course'\n",
    "\"\"\")\n",
    "\n",
    "inp = 'natural language learning course'\n",
    "print_grammar(grammar)\n",
    "parser = nltk.ChartParser(grammar)\n",
    "print_all_trees(parser, inp)"
   ]
  },
  {
   "cell_type": "code",
   "execution_count": 80,
   "metadata": {},
   "outputs": [
    {
     "name": "stdout",
     "output_type": "stream",
     "text": [
      "\n",
      "N -> N N [0.2] \n",
      "N -> 'natural' [0.2] \n",
      "N -> 'language' [0.2] \n",
      "N -> 'learning' [0.2]\n",
      "N -> 'course' [0.2]\n",
      "\n",
      "1.2800000000000006e-05\n",
      "1:\n",
      "(N (N (N (N natural) (N language)) (N learning)) (N course))\n",
      "2:\n",
      "(N (N (N natural) (N (N language) (N learning))) (N course))\n",
      "3:\n",
      "(N (N natural) (N (N (N language) (N learning)) (N course)))\n",
      "4:\n",
      "(N (N natural) (N (N language) (N (N learning) (N course))))\n",
      "5:\n",
      "(N (N (N natural) (N language)) (N (N learning) (N course)))\n"
     ]
    },
    {
     "name": "stderr",
     "output_type": "stream",
     "text": [
      "Start: N\n",
      "Productions: [N -> N N [0.2], N -> 'natural' [0.2], N -> 'language' [0.2], N -> 'learning' [0.2], N -> 'course' [0.2]]\n"
     ]
    }
   ],
   "source": [
    "grammar_string = \"\"\"\n",
    "N -> N N [{}] \n",
    "N -> 'natural' [{}] \n",
    "N -> 'language' [{}] \n",
    "N -> 'learning' [{}]\n",
    "N -> 'course' [{}]\n",
    "\"\"\".format(1/5, 1/5, 1/5, 1/5, 1/5)\n",
    "print(grammar_string)\n",
    "\n",
    "# uses N -> N N three times and each of\n",
    "# the words once each and because each\n",
    "# rule has the same probability we can\n",
    "# easily compute the probability of\n",
    "# each parse tree for this PCFG\n",
    "print((1/5)**3 * (1/5)**4)\n",
    "\n",
    "grammar = PCFG.fromstring(grammar_string)\n",
    "\n",
    "inp = 'natural language learning course'\n",
    "print_grammar(grammar)\n",
    "parser = pchart.InsideChartParser(grammar)\n",
    "print_all_trees(parser, inp)"
   ]
  },
  {
   "cell_type": "code",
   "execution_count": 81,
   "metadata": {},
   "outputs": [
    {
     "name": "stdout",
     "output_type": "stream",
     "text": [
      "\n",
      "N_1_4 -> N_1   N_2_4\n",
      "N_1_4 -> N_1_3 N_4\n",
      "N_1_4 -> N_1_2 N_3_4\n",
      "N_1_2 -> N_1   N_2   \n",
      "N_2_3 -> N_2   N_3   \n",
      "N_3_4 -> N_3   N_4   \n",
      "N_1_3 -> N_1_2 N_3   \n",
      "N_1_3 -> N_1   N_2_3 \n",
      "N_2_4 -> N_2_3 N_4   \n",
      "N_2_4 -> N_2   N_3_4 \n",
      "N_1 -> 'natural' \n",
      "N_2 -> 'language' \n",
      "N_3 -> 'learning'\n",
      "N_4 -> 'course'\n",
      "\n",
      "1:\n",
      "(N_1_4\n",
      "  (N_1_3 (N_1_2 (N_1 natural) (N_2 language)) (N_3 learning))\n",
      "  (N_4 course))\n",
      "2:\n",
      "(N_1_4\n",
      "  (N_1_3 (N_1 natural) (N_2_3 (N_2 language) (N_3 learning)))\n",
      "  (N_4 course))\n",
      "3:\n",
      "(N_1_4\n",
      "  (N_1 natural)\n",
      "  (N_2_4 (N_2_3 (N_2 language) (N_3 learning)) (N_4 course)))\n",
      "4:\n",
      "(N_1_4\n",
      "  (N_1 natural)\n",
      "  (N_2_4 (N_2 language) (N_3_4 (N_3 learning) (N_4 course))))\n",
      "5:\n",
      "(N_1_4\n",
      "  (N_1_2 (N_1 natural) (N_2 language))\n",
      "  (N_3_4 (N_3 learning) (N_4 course)))\n"
     ]
    },
    {
     "name": "stderr",
     "output_type": "stream",
     "text": [
      "Start: N_1_4\n",
      "Productions: [N_1_4 -> N_1 N_2_4, N_1_4 -> N_1_3 N_4, N_1_4 -> N_1_2 N_3_4, N_1_2 -> N_1 N_2, N_2_3 -> N_2 N_3, N_3_4 -> N_3 N_4, N_1_3 -> N_1_2 N_3, N_1_3 -> N_1 N_2_3, N_2_4 -> N_2_3 N_4, N_2_4 -> N_2 N_3_4, N_1 -> 'natural', N_2 -> 'language', N_3 -> 'learning', N_4 -> 'course']\n"
     ]
    }
   ],
   "source": [
    "grammar_string = \"\"\"\n",
    "N_1_4 -> N_1   N_2_4\n",
    "N_1_4 -> N_1_3 N_4\n",
    "N_1_4 -> N_1_2 N_3_4\n",
    "N_1_2 -> N_1   N_2   # natural language\n",
    "N_2_3 -> N_2   N_3   # language learning\n",
    "N_3_4 -> N_3   N_4   # learning course\n",
    "N_1_3 -> N_1_2 N_3   # natural language learning\n",
    "N_1_3 -> N_1   N_2_3 # natural language learning\n",
    "N_2_4 -> N_2_3 N_4   # language learning course\n",
    "N_2_4 -> N_2   N_3_4 # language learning course\n",
    "N_1 -> 'natural' \n",
    "N_2 -> 'language' \n",
    "N_3 -> 'learning'\n",
    "N_4 -> 'course'\n",
    "\"\"\"\n",
    "print(strip_comment(grammar_string))\n",
    "grammar = CFG.fromstring(strip_comment(grammar_string))\n",
    "print_grammar(grammar)\n",
    "parser = nltk.ChartParser(grammar)\n",
    "inp = 'natural language learning course'.strip()\n",
    "print_all_trees(parser, inp)"
   ]
  },
  {
   "cell_type": "code",
   "execution_count": 82,
   "metadata": {},
   "outputs": [
    {
     "name": "stdout",
     "output_type": "stream",
     "text": [
      "\n",
      "N_1_4 -> N_1   N_2_4   [0.3333333333333333]\n",
      "N_1_4 -> N_1_3 N_4     [0.3333333333333333]\n",
      "N_1_4 -> N_1_2 N_3_4   [0.3333333333333333]\n",
      "N_1_2 -> N_1   N_2     [1.0] \n",
      "N_2_3 -> N_2   N_3     [1.0] \n",
      "N_3_4 -> N_3   N_4     [1.0] \n",
      "N_1_3 -> N_1_2 N_3     [0.5]  \n",
      "N_1_3 -> N_1   N_2_3   [0.5]  \n",
      "N_2_4 -> N_2_3 N_4     [0.5]  \n",
      "N_2_4 -> N_2   N_3_4   [0.5]  \n",
      "N_1 -> 'natural'       [1.0]\n",
      "N_2 -> 'language'      [1.0]\n",
      "N_3 -> 'learning'      [1.0]\n",
      "N_4 -> 'course'        [1.0]\n",
      "\n",
      "1:\n",
      "(N_1_4\n",
      "  (N_1_3 (N_1_2 (N_1 natural) (N_2 language)) (N_3 learning))\n",
      "  (N_4 course))\n",
      "2:\n",
      "(N_1_4\n",
      "  (N_1_3 (N_1 natural) (N_2_3 (N_2 language) (N_3 learning)))\n",
      "  (N_4 course))\n",
      "3:\n",
      "(N_1_4\n",
      "  (N_1 natural)\n",
      "  (N_2_4 (N_2_3 (N_2 language) (N_3 learning)) (N_4 course)))\n",
      "4:\n",
      "(N_1_4\n",
      "  (N_1 natural)\n",
      "  (N_2_4 (N_2 language) (N_3_4 (N_3 learning) (N_4 course))))\n",
      "5:\n",
      "(N_1_4\n",
      "  (N_1_2 (N_1 natural) (N_2 language))\n",
      "  (N_3_4 (N_3 learning) (N_4 course)))\n"
     ]
    },
    {
     "name": "stderr",
     "output_type": "stream",
     "text": [
      "Start: N_1_4\n",
      "Productions: [N_1_4 -> N_1 N_2_4 [0.333333], N_1_4 -> N_1_3 N_4 [0.333333], N_1_4 -> N_1_2 N_3_4 [0.333333], N_1_2 -> N_1 N_2 [1.0], N_2_3 -> N_2 N_3 [1.0], N_3_4 -> N_3 N_4 [1.0], N_1_3 -> N_1_2 N_3 [0.5], N_1_3 -> N_1 N_2_3 [0.5], N_2_4 -> N_2_3 N_4 [0.5], N_2_4 -> N_2 N_3_4 [0.5], N_1 -> 'natural' [1.0], N_2 -> 'language' [1.0], N_3 -> 'learning' [1.0], N_4 -> 'course' [1.0]]\n"
     ]
    }
   ],
   "source": [
    "# write down the probabilities as fractions over \n",
    "# the possible choices for each non-terminal in\n",
    "# the lhs which has multiple possible rhs expansions\n",
    "N_1_4_probs = [1/3, 1/3, 1/3]\n",
    "N_1_3_probs = [1/2, 1/2]\n",
    "N_2_4_probs = [1/2, 1/2]\n",
    "\n",
    "grammar_string = \"\"\"\n",
    "N_1_4 -> N_1   N_2_4   [{}]\n",
    "N_1_4 -> N_1_3 N_4     [{}]\n",
    "N_1_4 -> N_1_2 N_3_4   [{}]\n",
    "N_1_2 -> N_1   N_2     [1.0] # natural language\n",
    "N_2_3 -> N_2   N_3     [1.0] # language learning\n",
    "N_3_4 -> N_3   N_4     [1.0] # learning course\n",
    "N_1_3 -> N_1_2 N_3     [{}]  # natural language learning\n",
    "N_1_3 -> N_1   N_2_3   [{}]  # natural language learning\n",
    "N_2_4 -> N_2_3 N_4     [{}]  # language learning course\n",
    "N_2_4 -> N_2   N_3_4   [{}]  # language learning course\n",
    "N_1 -> 'natural'       [1.0]\n",
    "N_2 -> 'language'      [1.0]\n",
    "N_3 -> 'learning'      [1.0]\n",
    "N_4 -> 'course'        [1.0]\n",
    "\"\"\".format(*N_1_4_probs, *N_1_3_probs, *N_2_4_probs) \n",
    "# using * the lists are flattened and we get (1/3, 1/3, 1/3, 1/2, 1/2, 1/2, 1/2)\n",
    "\n",
    "print(strip_comment(grammar_string))\n",
    "grammar = PCFG.fromstring(strip_comment(grammar_string))\n",
    "print_grammar(grammar)\n",
    "parser = pchart.InsideChartParser(grammar)\n",
    "parser.trace(3)\n",
    "inp = 'natural language learning course'.strip()\n",
    "print_all_trees(parser, inp)"
   ]
  },
  {
   "cell_type": "code",
   "execution_count": 83,
   "metadata": {},
   "outputs": [],
   "source": [
    "N_1_4_probs = [1/30, 28/30, 1/30]\n",
    "N_1_3_probs = [19/20, 1/20]\n",
    "N_2_4_probs = [1/2, 1/2]"
   ]
  },
  {
   "cell_type": "code",
   "execution_count": 84,
   "metadata": {},
   "outputs": [
    {
     "data": {
      "text/html": [
       "<style>\n",
       "    @font-face {\n",
       "        font-family: \"Computer Modern\";\n",
       "        src: url('http://9dbb143991406a7c655e-aa5fcb0a5a4ec34cff238a2d56ca4144.r56.cf5.rackcdn.com/cmunss.otf');\n",
       "    }\n",
       "    @font-face {\n",
       "        font-family: \"Computer Modern\";\n",
       "        font-weight: bold;\n",
       "        src: url('http://9dbb143991406a7c655e-aa5fcb0a5a4ec34cff238a2d56ca4144.r56.cf5.rackcdn.com/cmunsx.otf');\n",
       "    }\n",
       "    @font-face {\n",
       "        font-family: \"Computer Modern\";\n",
       "        font-style: oblique;\n",
       "        src: url('http://9dbb143991406a7c655e-aa5fcb0a5a4ec34cff238a2d56ca4144.r56.cf5.rackcdn.com/cmunsi.otf');\n",
       "    }\n",
       "    @font-face {\n",
       "        font-family: \"Computer Modern\";\n",
       "        font-weight: bold;\n",
       "        font-style: oblique;\n",
       "        src: url('http://9dbb143991406a7c655e-aa5fcb0a5a4ec34cff238a2d56ca4144.r56.cf5.rackcdn.com/cmunso.otf');\n",
       "    }\n",
       "    div.cell{\n",
       "        width:800px;\n",
       "        font-size: 110%;\n",
       "        margin-left:5% !important;\n",
       "        margin-right:auto;\n",
       "    }\n",
       "    h1 {\n",
       "        font-family: Helvetica, serif;\n",
       "    }\n",
       "    h4{\n",
       "        margin-top:12px;\n",
       "        margin-bottom: 3px;\n",
       "       }\n",
       "    div.text_cell_render{\n",
       "        font-family: Computer Modern, \"Helvetica Neue\", Arial, Helvetica, Geneva, sans-serif;\n",
       "        line-height: 145%;\n",
       "        font-size: 110%;\n",
       "        width:800px;\n",
       "        margin-left:auto;\n",
       "        margin-right:auto;\n",
       "    }\n",
       "    .CodeMirror{\n",
       "            font-family: \"Source Code Pro\", source-code-pro,Consolas, monospace;\n",
       "            font-size: 110%;\n",
       "    }\n",
       "    .prompt{\n",
       "        display: None;\n",
       "    }\n",
       "    .text_cell_render h5 {\n",
       "        font-weight: 300;\n",
       "        font-size: 22pt;\n",
       "        color: #4057A1;\n",
       "        font-style: italic;\n",
       "        margin-bottom: .5em;\n",
       "        margin-top: 0.5em;\n",
       "        display: block;\n",
       "    }\n",
       "    \n",
       "    .warning{\n",
       "        color: rgb( 240, 20, 20 )\n",
       "        }  \n",
       "\n",
       "</style>\n",
       "<script>\n",
       "    MathJax.Hub.Config({\n",
       "                        TeX: {\n",
       "                           extensions: [\"AMSmath.js\"]\n",
       "                           },\n",
       "                tex2jax: {\n",
       "                    inlineMath: [ ['$','$'], [\"\\\\(\",\"\\\\)\"] ],\n",
       "                    displayMath: [ ['$$','$$'], [\"\\\\[\",\"\\\\]\"] ]\n",
       "                },\n",
       "                displayAlign: 'center', // Change this to 'center' to center equations.\n",
       "                \"HTML-CSS\": {\n",
       "                    styles: {'.MathJax_Display': {\"margin\": 4}}\n",
       "                }\n",
       "        });\n",
       "</script>\n"
      ],
      "text/plain": [
       "<IPython.core.display.HTML object>"
      ]
     },
     "execution_count": 84,
     "metadata": {},
     "output_type": "execute_result"
    }
   ],
   "source": [
    "from IPython.core.display import HTML\n",
    "\n",
    "\n",
    "def css_styling():\n",
    "    styles = open(\"../css/notebook.css\", \"r\").read()\n",
    "    return HTML(styles)\n",
    "css_styling()"
   ]
  }
 ],
 "metadata": {
  "kernelspec": {
   "display_name": "Python 3",
   "language": "python",
   "name": "python3"
  },
  "language_info": {
   "codemirror_mode": {
    "name": "ipython",
    "version": 3
   },
   "file_extension": ".py",
   "mimetype": "text/x-python",
   "name": "python",
   "nbconvert_exporter": "python",
   "pygments_lexer": "ipython3",
   "version": "3.6.5"
  }
 },
 "nbformat": 4,
 "nbformat_minor": 2
}
