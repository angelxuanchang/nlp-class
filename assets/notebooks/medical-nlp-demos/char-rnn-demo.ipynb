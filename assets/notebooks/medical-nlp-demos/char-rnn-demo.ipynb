{
 "cells": [
  {
   "cell_type": "markdown",
   "metadata": {},
   "source": [
    "# Character RNNs for Medical Entities"
   ]
  },
  {
   "cell_type": "code",
   "execution_count": 20,
   "metadata": {},
   "outputs": [
    {
     "name": "stdout",
     "output_type": "stream",
     "text": [
      "['data/snomed/finding.txt', 'data/snomed/body_structure.txt', 'data/snomed/morphologic_abnormality.txt', 'data/snomed/qualifier_value.txt', 'data/snomed/procedure.txt', 'data/snomed/disorder.txt']\n"
     ]
    }
   ],
   "source": [
    "from io import open\n",
    "import glob\n",
    "import os\n",
    "\n",
    "def findFiles(path): return glob.glob(path)\n",
    "\n",
    "print(findFiles('data/snomed/*.txt'))\n",
    "\n",
    "import unicodedata\n",
    "import string\n",
    "\n",
    "all_letters = string.ascii_letters + \" .,;'\"\n",
    "n_letters = len(all_letters)\n",
    "\n",
    "# Turn a Unicode string to plain ASCII, thanks to https://stackoverflow.com/a/518232/2809427\n",
    "def unicodeToAscii(s):\n",
    "    return ''.join(\n",
    "        c for c in unicodedata.normalize('NFD', s)\n",
    "        if unicodedata.category(c) != 'Mn'\n",
    "        and c in all_letters\n",
    "    )\n",
    "\n",
    "# Build the category_lines dictionary, a list of names per language\n",
    "category_lines = {}\n",
    "all_categories = []\n",
    "\n",
    "# Read a file and split into lines\n",
    "def readLines(filename):\n",
    "    lines = open(filename, encoding='utf-8').read().strip().split('\\n')\n",
    "    return [unicodeToAscii(line) for line in lines]\n",
    "\n",
    "for filename in findFiles('data/snomed/*.txt'):\n",
    "    category = os.path.splitext(os.path.basename(filename))[0]\n",
    "    all_categories.append(category)\n",
    "    lines = readLines(filename)\n",
    "    category_lines[category] = lines\n",
    "\n",
    "n_categories = len(all_categories)"
   ]
  },
  {
   "cell_type": "code",
   "execution_count": 21,
   "metadata": {},
   "outputs": [
    {
     "name": "stdout",
     "output_type": "stream",
     "text": [
      "tensor([[1., 0., 0., 0., 0., 0., 0., 0., 0., 0., 0., 0., 0., 0., 0., 0., 0., 0.,\n",
      "         0., 0., 0., 0., 0., 0., 0., 0., 0., 0., 0., 0., 0., 0., 0., 0., 0., 0.,\n",
      "         0., 0., 0., 0., 0., 0., 0., 0., 0., 0., 0., 0., 0., 0., 0., 0., 0., 0.,\n",
      "         0., 0., 0.]])\n",
      "tensor([[0., 1., 0., 0., 0., 0., 0., 0., 0., 0., 0., 0., 0., 0., 0., 0., 0., 0.,\n",
      "         0., 0., 0., 0., 0., 0., 0., 0., 0., 0., 0., 0., 0., 0., 0., 0., 0., 0.,\n",
      "         0., 0., 0., 0., 0., 0., 0., 0., 0., 0., 0., 0., 0., 0., 0., 0., 0., 0.,\n",
      "         0., 0., 0.]])\n",
      "tensor([[0., 0., 1., 0., 0., 0., 0., 0., 0., 0., 0., 0., 0., 0., 0., 0., 0., 0.,\n",
      "         0., 0., 0., 0., 0., 0., 0., 0., 0., 0., 0., 0., 0., 0., 0., 0., 0., 0.,\n",
      "         0., 0., 0., 0., 0., 0., 0., 0., 0., 0., 0., 0., 0., 0., 0., 0., 0., 0.,\n",
      "         0., 0., 0.]])\n",
      "torch.Size([6, 1, 57])\n"
     ]
    }
   ],
   "source": [
    "import torch\n",
    "\n",
    "# Find letter index from all_letters, e.g. \"a\" = 0\n",
    "def letterToIndex(letter):\n",
    "    return all_letters.find(letter)\n",
    "\n",
    "# Just for demonstration, turn a letter into a <1 x n_letters> Tensor\n",
    "def letterToTensor(letter):\n",
    "    tensor = torch.zeros(1, n_letters)\n",
    "    tensor[0][letterToIndex(letter)] = 1\n",
    "    return tensor\n",
    "\n",
    "# Turn a line into a <line_length x 1 x n_letters>,\n",
    "# or an array of one-hot letter vectors\n",
    "def lineToTensor(line):\n",
    "    tensor = torch.zeros(len(line), 1, n_letters)\n",
    "    for li, letter in enumerate(line):\n",
    "        tensor[li][0][letterToIndex(letter)] = 1\n",
    "    return tensor\n",
    "\n",
    "print(letterToTensor('a'))\n",
    "print(letterToTensor('b'))\n",
    "print(letterToTensor('c'))\n",
    "\n",
    "print(lineToTensor('adnexa').size())"
   ]
  },
  {
   "cell_type": "code",
   "execution_count": 22,
   "metadata": {},
   "outputs": [],
   "source": [
    "import torch.nn as nn\n",
    "\n",
    "class RNN(nn.Module):\n",
    "    def __init__(self, input_size, hidden_size, output_size):\n",
    "        super(RNN, self).__init__()\n",
    "\n",
    "        self.hidden_size = hidden_size\n",
    "\n",
    "        self.i2h = nn.Linear(input_size + hidden_size, hidden_size)\n",
    "        self.i2o = nn.Linear(input_size + hidden_size, output_size)\n",
    "        #self.dropout = nn.Dropout(0.1)\n",
    "        self.softmax = nn.LogSoftmax(dim=1)\n",
    "\n",
    "    def forward(self, input, hidden):\n",
    "        combined = torch.cat((input, hidden), 1)\n",
    "        hidden = self.i2h(combined)\n",
    "        output = self.i2o(combined)\n",
    "        #output = self.dropout(output)\n",
    "        output = self.softmax(output)\n",
    "        return output, hidden\n",
    "\n",
    "    def initHidden(self):\n",
    "        return torch.zeros(1, self.hidden_size)\n",
    "\n",
    "n_hidden = 128\n",
    "rnn = RNN(n_letters, n_hidden, n_categories)"
   ]
  },
  {
   "cell_type": "code",
   "execution_count": 23,
   "metadata": {},
   "outputs": [
    {
     "name": "stdout",
     "output_type": "stream",
     "text": [
      "tensor([[-1.7938, -1.8432, -1.7928, -1.6659, -1.8612, -1.8056]],\n",
      "       grad_fn=<LogSoftmaxBackward>)\n",
      "('qualifier_value', 3)\n"
     ]
    }
   ],
   "source": [
    "def categoryFromOutput(output):\n",
    "    top_n, top_i = output.topk(1)\n",
    "    category_i = top_i[0].item()\n",
    "    return all_categories[category_i], category_i\n",
    "\n",
    "input = lineToTensor('adnexa')\n",
    "hidden = torch.zeros(1, n_hidden)\n",
    "\n",
    "output, next_hidden = rnn(input[0], hidden)\n",
    "print(output)\n",
    "print(categoryFromOutput(output))"
   ]
  },
  {
   "cell_type": "code",
   "execution_count": 24,
   "metadata": {},
   "outputs": [
    {
     "name": "stdout",
     "output_type": "stream",
     "text": [
      "category = disorder / line = hemangiomas\n",
      "category = procedure / line = CT ABDOMEN\n",
      "category = procedure / line = Total colonoscopy\n",
      "category = finding / line = alcohol use\n",
      "category = body_structure / line = uterus\n",
      "category = qualifier_value / line = small  moderate\n",
      "category = body_structure / line = left lobe of the liver\n",
      "category = morphologic_abnormality / line = cavitary lesion\n",
      "category = procedure / line = Therapeutic abortion\n",
      "category = qualifier_value / line = Enlarged\n"
     ]
    }
   ],
   "source": [
    "import random\n",
    "\n",
    "def randomChoice(l):\n",
    "    return l[random.randint(0, len(l) - 1)]\n",
    "\n",
    "def randomTrainingExample():\n",
    "    category = randomChoice(all_categories)\n",
    "    line = randomChoice(category_lines[category])\n",
    "    category_tensor = torch.tensor([all_categories.index(category)], dtype=torch.long)\n",
    "    line_tensor = lineToTensor(line)\n",
    "    return category, line, category_tensor, line_tensor\n",
    "\n",
    "for i in range(10):\n",
    "    category, line, category_tensor, line_tensor = randomTrainingExample()\n",
    "    print('category =', category, '/ line =', line)"
   ]
  },
  {
   "cell_type": "code",
   "execution_count": 29,
   "metadata": {},
   "outputs": [],
   "source": [
    "criterion = nn.NLLLoss()\n",
    "learning_rate = 0.0005 # If you set this too high, it might explode. If too low, it might not learn\n",
    "\n",
    "def train(category_tensor, line_tensor):\n",
    "    hidden = rnn.initHidden()\n",
    "\n",
    "    rnn.zero_grad()\n",
    "\n",
    "    for i in range(line_tensor.size()[0]):\n",
    "        output, hidden = rnn(line_tensor[i], hidden)\n",
    "\n",
    "    loss = criterion(output, category_tensor)\n",
    "    loss.backward()\n",
    "\n",
    "    # Add parameters' gradients to their values, multiplied by learning rate\n",
    "    for p in rnn.parameters():\n",
    "        p.data.add_(-learning_rate, p.grad.data)\n",
    "\n",
    "    return output, loss.item()"
   ]
  },
  {
   "cell_type": "code",
   "execution_count": 30,
   "metadata": {},
   "outputs": [
    {
     "name": "stdout",
     "output_type": "stream",
     "text": [
      "5000 2% (0m 9s) 1.6501 diverticula / disorder ✗ (morphologic_abnormality)\n",
      "10000 5% (0m 19s) 1.3653 cystolithalopaxy / procedure ✓\n",
      "15000 7% (0m 28s) 1.6782 Shortness of Breath / body_structure ✗ (finding)\n",
      "20000 10% (0m 37s) 1.4565 leg pain / disorder ✓\n",
      "25000 12% (0m 48s) 1.4404 administration / morphologic_abnormality ✗ (procedure)\n",
      "30000 15% (0m 58s) 1.9341 widow / procedure ✗ (finding)\n",
      "35000 17% (1m 7s) 1.6428 reflux / body_structure ✗ (finding)\n",
      "40000 20% (1m 16s) 1.5597 worse / finding ✗ (qualifier_value)\n",
      "45000 22% (1m 26s) 1.7928 clot / procedure ✗ (morphologic_abnormality)\n",
      "50000 25% (1m 36s) 2.0605 Intracranial hemorrhage / finding ✗ (disorder)\n",
      "55000 27% (1m 44s) 1.7095 th / body_structure ✗ (qualifier_value)\n",
      "60000 30% (1m 54s) 1.9959 screening / morphologic_abnormality ✗ (qualifier_value)\n",
      "65000 32% (2m 4s) 2.1719 green / body_structure ✗ (qualifier_value)\n",
      "70000 35% (2m 13s) 3.4292 CT abdomen and pelvis / finding ✗ (procedure)\n",
      "75000 37% (2m 23s) 1.6246 thigh / finding ✗ (body_structure)\n",
      "80000 40% (2m 32s) 1.1240 right vertebral artery / body_structure ✓\n",
      "85000 42% (2m 41s) 1.0048 heart disease / disorder ✓\n",
      "90000 45% (2m 50s) 2.0573 renal stones / body_structure ✗ (disorder)\n",
      "95000 47% (2m 59s) 1.3910 lungs / morphologic_abnormality ✗ (finding)\n",
      "100000 50% (3m 10s) 1.9319 displacement / procedure ✗ (morphologic_abnormality)\n",
      "105000 52% (3m 21s) 1.6430 white / body_structure ✗ (qualifier_value)\n",
      "110000 55% (3m 30s) 1.4081 varices / body_structure ✗ (morphologic_abnormality)\n",
      "115000 57% (3m 39s) 0.6973 adrenal mass / finding ✓\n",
      "120000 60% (3m 47s) 1.1188 Platelet / body_structure ✓\n",
      "125000 62% (3m 56s) 0.3265 diverticular disease / disorder ✓\n",
      "130000 65% (4m 5s) 1.9498 labored / qualifier_value ✗ (finding)\n",
      "135000 67% (4m 14s) 1.4815 IV / qualifier_value ✓\n",
      "140000 70% (4m 23s) 0.6065 fatty infiltration / morphologic_abnormality ✓\n",
      "145000 72% (4m 35s) 1.1231 dilatation / morphologic_abnormality ✓\n",
      "150000 75% (4m 44s) 2.3487 adenoma / morphologic_abnormality ✗ (disorder)\n",
      "155000 77% (4m 54s) 2.7499 gravida  / qualifier_value ✗ (finding)\n",
      "160000 80% (5m 4s) 0.3415 Carpal tunnel syndrome / disorder ✓\n",
      "165000 82% (5m 17s) 0.4981 left kidney / body_structure ✓\n",
      "170000 85% (5m 27s) 0.4154 mediastinal mass / finding ✓\n",
      "175000 87% (5m 38s) 0.9088 Examination / morphologic_abnormality ✗ (procedure)\n",
      "180000 90% (5m 48s) 0.1997 diverticular disease / disorder ✓\n",
      "185000 92% (5m 57s) 1.2775 Dry / qualifier_value ✓\n",
      "190000 95% (6m 6s) 0.5467 positive bowel sounds / finding ✓\n",
      "195000 97% (6m 17s) 3.6486 prosthesis / disorder ✗ (procedure)\n",
      "200000 100% (6m 27s) 0.8686 apraxia / finding ✓\n"
     ]
    }
   ],
   "source": [
    "import time\n",
    "import math\n",
    "\n",
    "n_iters = 200000\n",
    "print_every = 5000\n",
    "plot_every = 1000\n",
    "\n",
    "# Keep track of losses for plotting\n",
    "current_loss = 0\n",
    "all_losses = []\n",
    "\n",
    "def timeSince(since):\n",
    "    now = time.time()\n",
    "    s = now - since\n",
    "    m = math.floor(s / 60)\n",
    "    s -= m * 60\n",
    "    return '%dm %ds' % (m, s)\n",
    "\n",
    "start = time.time()\n",
    "\n",
    "for iter in range(1, n_iters + 1):\n",
    "    category, line, category_tensor, line_tensor = randomTrainingExample()\n",
    "    output, loss = train(category_tensor, line_tensor)\n",
    "    current_loss += loss\n",
    "\n",
    "    # Print iter number, loss, name and guess\n",
    "    if iter % print_every == 0:\n",
    "        guess, guess_i = categoryFromOutput(output)\n",
    "        correct = '✓' if guess == category else '✗ (%s)' % category\n",
    "        print('%d %d%% (%s) %.4f %s / %s %s' % (iter, iter / n_iters * 100, timeSince(start), loss, line, guess, correct))\n",
    "\n",
    "    # Add current loss avg to list of losses\n",
    "    if iter % plot_every == 0:\n",
    "        all_losses.append(current_loss / plot_every)\n",
    "        current_loss = 0"
   ]
  },
  {
   "cell_type": "code",
   "execution_count": 31,
   "metadata": {},
   "outputs": [
    {
     "data": {
      "text/plain": [
       "[<matplotlib.lines.Line2D at 0x11b0e4240>]"
      ]
     },
     "execution_count": 31,
     "metadata": {},
     "output_type": "execute_result"
    },
    {
     "data": {
      "image/png": "[encoded data removed]",
      "text/plain": [
       "<Figure size 432x288 with 1 Axes>"
      ]
     },
     "metadata": {
      "needs_background": "light"
     },
     "output_type": "display_data"
    }
   ],
   "source": [
    "import matplotlib.pyplot as plt\n",
    "import matplotlib.ticker as ticker\n",
    "\n",
    "plt.figure()\n",
    "plt.plot(all_losses)"
   ]
  },
  {
   "cell_type": "code",
   "execution_count": 32,
   "metadata": {},
   "outputs": [
    {
     "data": {
      "image/png": "[encoded data removed]",
      "text/plain": [
       "<Figure size 432x288 with 2 Axes>"
      ]
     },
     "metadata": {
      "needs_background": "light"
     },
     "output_type": "display_data"
    }
   ],
   "source": [
    "# Keep track of correct guesses in a confusion matrix\n",
    "confusion = torch.zeros(n_categories, n_categories)\n",
    "n_confusion = 10000\n",
    "\n",
    "# Just return an output given a line\n",
    "def evaluate(line_tensor):\n",
    "    hidden = rnn.initHidden()\n",
    "\n",
    "    for i in range(line_tensor.size()[0]):\n",
    "        output, hidden = rnn(line_tensor[i], hidden)\n",
    "\n",
    "    return output\n",
    "\n",
    "# Go through a bunch of examples and record which are correctly guessed\n",
    "for i in range(n_confusion):\n",
    "    category, line, category_tensor, line_tensor = randomTrainingExample()\n",
    "    output = evaluate(line_tensor)\n",
    "    guess, guess_i = categoryFromOutput(output)\n",
    "    category_i = all_categories.index(category)\n",
    "    confusion[category_i][guess_i] += 1\n",
    "\n",
    "# Normalize by dividing every row by its sum\n",
    "for i in range(n_categories):\n",
    "    confusion[i] = confusion[i] / confusion[i].sum()\n",
    "\n",
    "# Set up plot\n",
    "fig = plt.figure()\n",
    "ax = fig.add_subplot(111)\n",
    "cax = ax.matshow(confusion.numpy())\n",
    "fig.colorbar(cax)\n",
    "\n",
    "# Set up axes\n",
    "ax.set_xticklabels([''] + all_categories, rotation=90)\n",
    "ax.set_yticklabels([''] + all_categories)\n",
    "\n",
    "# Force label at every tick\n",
    "ax.xaxis.set_major_locator(ticker.MultipleLocator(1))\n",
    "ax.yaxis.set_major_locator(ticker.MultipleLocator(1))\n",
    "\n",
    "# sphinx_gallery_thumbnail_number = 2\n",
    "plt.show()"
   ]
  },
  {
   "cell_type": "code",
   "execution_count": 33,
   "metadata": {},
   "outputs": [],
   "source": [
    "def predict(input_line, n_predictions=3):\n",
    "    print('\\n> %s' % input_line)\n",
    "    with torch.no_grad():\n",
    "        output = evaluate(lineToTensor(input_line))\n",
    "\n",
    "        # Get top N categories\n",
    "        topv, topi = output.topk(n_predictions, 1, True)\n",
    "        predictions = []\n",
    "\n",
    "        for i in range(n_predictions):\n",
    "            value = topv[0][i].item()\n",
    "            category_index = topi[0][i].item()\n",
    "            print('(%.2f) %s' % (value, all_categories[category_index]))\n",
    "            predictions.append([value, all_categories[category_index]])"
   ]
  },
  {
   "cell_type": "code",
   "execution_count": 34,
   "metadata": {},
   "outputs": [
    {
     "name": "stdout",
     "output_type": "stream",
     "text": [
      "\n",
      "> pulmonary nodule\n",
      "(-0.94) body_structure\n",
      "(-1.14) finding\n",
      "(-1.98) morphologic_abnormality\n",
      "\n",
      "> diverticulum\n",
      "(-0.63) morphologic_abnormality\n",
      "(-1.03) body_structure\n",
      "(-2.60) finding\n",
      "\n",
      "> exanthems\n",
      "(-1.10) finding\n",
      "(-1.48) morphologic_abnormality\n",
      "(-1.75) procedure\n",
      "\n",
      "> adnexa\n",
      "(-1.04) body_structure\n",
      "(-1.27) finding\n",
      "(-1.67) disorder\n",
      "\n",
      "> bicuspid aortic valve\n",
      "(-0.63) disorder\n",
      "(-1.43) body_structure\n",
      "(-1.68) qualifier_value\n",
      "\n",
      "> Bicuspid aortic valve\n",
      "(-0.73) disorder\n",
      "(-1.32) body_structure\n",
      "(-1.55) qualifier_value\n",
      "\n",
      "> aortic valve\n",
      "(-0.33) body_structure\n",
      "(-1.93) qualifier_value\n",
      "(-2.21) disorder\n"
     ]
    }
   ],
   "source": [
    "predict('pulmonary nodule')\n",
    "predict('diverticulum')\n",
    "predict('exanthems')\n",
    "predict('adnexa')\n",
    "predict('bicuspid aortic valve')\n",
    "predict('Bicuspid aortic valve')\n",
    "predict('aortic valve')"
   ]
  },
  {
   "cell_type": "code",
   "execution_count": 35,
   "metadata": {},
   "outputs": [
    {
     "name": "stdout",
     "output_type": "stream",
     "text": [
      "\n",
      "> artherosclerosis\n",
      "(-0.53) disorder\n",
      "(-2.03) finding\n",
      "(-2.18) morphologic_abnormality\n",
      "\n",
      "> nodule\n",
      "(-0.97) morphologic_abnormality\n",
      "(-1.34) body_structure\n",
      "(-1.90) qualifier_value\n",
      "\n",
      "> necrotizing enterocolitis\n",
      "(-0.11) disorder\n",
      "(-2.98) finding\n",
      "(-3.53) morphologic_abnormality\n",
      "\n",
      "> enterocolitis\n",
      "(-0.10) disorder\n",
      "(-3.12) finding\n",
      "(-3.67) morphologic_abnormality\n"
     ]
    }
   ],
   "source": [
    "predict('artherosclerosis')\n",
    "predict('nodule')\n",
    "predict('necrotizing enterocolitis')\n",
    "predict('enterocolitis')"
   ]
  },
  {
   "cell_type": "code",
   "execution_count": 37,
   "metadata": {},
   "outputs": [
    {
     "name": "stdout",
     "output_type": "stream",
     "text": [
      "\n",
      "> ex-smoker\n",
      "(-1.08) disorder\n",
      "(-1.49) finding\n",
      "(-1.65) qualifier_value\n",
      "\n",
      "> Ex-smoker\n",
      "(-1.35) qualifier_value\n",
      "(-1.41) disorder\n",
      "(-1.54) finding\n",
      "\n",
      "> non-smoker\n",
      "(-1.19) finding\n",
      "(-1.36) qualifier_value\n",
      "(-1.71) disorder\n",
      "\n",
      "> ex - smoker\n",
      "(-0.80) finding\n",
      "(-1.27) body_structure\n",
      "(-2.07) disorder\n",
      "\n",
      "> ex smoker\n",
      "(-0.90) finding\n",
      "(-1.64) body_structure\n",
      "(-1.65) disorder\n"
     ]
    }
   ],
   "source": [
    "predict('ex-smoker')\n",
    "predict('Ex-smoker')\n",
    "predict('non-smoker')\n",
    "predict('ex - smoker')\n",
    "predict('ex smoker')"
   ]
  }
 ],
 "metadata": {
  "kernelspec": {
   "display_name": "Python 3",
   "language": "python",
   "name": "python3"
  },
  "language_info": {
   "codemirror_mode": {
    "name": "ipython",
    "version": 3
   },
   "file_extension": ".py",
   "mimetype": "text/x-python",
   "name": "python",
   "nbconvert_exporter": "python",
   "pygments_lexer": "ipython3",
   "version": "3.7.0"
  }
 },
 "nbformat": 4,
 "nbformat_minor": 2
}
