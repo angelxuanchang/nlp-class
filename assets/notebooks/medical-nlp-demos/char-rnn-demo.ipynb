{
 "cells": [
  {
   "cell_type": "markdown",
   "metadata": {},
   "source": [
    "# Character RNNs for Medical Entities"
   ]
  },
  {
   "cell_type": "code",
   "execution_count": 1,
   "metadata": {},
   "outputs": [
    {
     "name": "stdout",
     "output_type": "stream",
     "text": [
      "['data/snomed/finding.txt', 'data/snomed/body_structure.txt', 'data/snomed/morphologic_abnormality.txt', 'data/snomed/qualifier_value.txt', 'data/snomed/procedure.txt', 'data/snomed/disorder.txt']\n"
     ]
    }
   ],
   "source": [
    "from io import open\n",
    "import glob\n",
    "import os\n",
    "\n",
    "def findFiles(path): return glob.glob(path)\n",
    "\n",
    "print(findFiles('data/snomed/*.txt'))\n",
    "\n",
    "import unicodedata\n",
    "import string\n",
    "\n",
    "all_letters = string.ascii_letters + \" .,;'\"\n",
    "n_letters = len(all_letters)\n",
    "\n",
    "# Turn a Unicode string to plain ASCII, thanks to https://stackoverflow.com/a/518232/2809427\n",
    "def unicodeToAscii(s):\n",
    "    return ''.join(\n",
    "        c for c in unicodedata.normalize('NFD', s)\n",
    "        if unicodedata.category(c) != 'Mn'\n",
    "        and c in all_letters\n",
    "    )\n",
    "\n",
    "# Build the category_lines dictionary, a list of names per language\n",
    "category_lines = {}\n",
    "all_categories = []\n",
    "\n",
    "# Read a file and split into lines\n",
    "def readLines(filename):\n",
    "    lines = open(filename, encoding='utf-8').read().strip().split('\\n')\n",
    "    return [unicodeToAscii(line) for line in lines]\n",
    "\n",
    "for filename in findFiles('data/snomed/*.txt'):\n",
    "    category = os.path.splitext(os.path.basename(filename))[0]\n",
    "    all_categories.append(category)\n",
    "    lines = readLines(filename)\n",
    "    category_lines[category] = lines\n",
    "\n",
    "n_categories = len(all_categories)"
   ]
  },
  {
   "cell_type": "code",
   "execution_count": 2,
   "metadata": {},
   "outputs": [
    {
     "name": "stdout",
     "output_type": "stream",
     "text": [
      "tensor([[1., 0., 0., 0., 0., 0., 0., 0., 0., 0., 0., 0., 0., 0., 0., 0., 0., 0.,\n",
      "         0., 0., 0., 0., 0., 0., 0., 0., 0., 0., 0., 0., 0., 0., 0., 0., 0., 0.,\n",
      "         0., 0., 0., 0., 0., 0., 0., 0., 0., 0., 0., 0., 0., 0., 0., 0., 0., 0.,\n",
      "         0., 0., 0.]])\n",
      "tensor([[0., 1., 0., 0., 0., 0., 0., 0., 0., 0., 0., 0., 0., 0., 0., 0., 0., 0.,\n",
      "         0., 0., 0., 0., 0., 0., 0., 0., 0., 0., 0., 0., 0., 0., 0., 0., 0., 0.,\n",
      "         0., 0., 0., 0., 0., 0., 0., 0., 0., 0., 0., 0., 0., 0., 0., 0., 0., 0.,\n",
      "         0., 0., 0.]])\n",
      "tensor([[0., 0., 1., 0., 0., 0., 0., 0., 0., 0., 0., 0., 0., 0., 0., 0., 0., 0.,\n",
      "         0., 0., 0., 0., 0., 0., 0., 0., 0., 0., 0., 0., 0., 0., 0., 0., 0., 0.,\n",
      "         0., 0., 0., 0., 0., 0., 0., 0., 0., 0., 0., 0., 0., 0., 0., 0., 0., 0.,\n",
      "         0., 0., 0.]])\n",
      "torch.Size([6, 1, 57])\n"
     ]
    }
   ],
   "source": [
    "import torch\n",
    "\n",
    "# Find letter index from all_letters, e.g. \"a\" = 0\n",
    "def letterToIndex(letter):\n",
    "    return all_letters.find(letter)\n",
    "\n",
    "# Just for demonstration, turn a letter into a <1 x n_letters> Tensor\n",
    "def letterToTensor(letter):\n",
    "    tensor = torch.zeros(1, n_letters)\n",
    "    tensor[0][letterToIndex(letter)] = 1\n",
    "    return tensor\n",
    "\n",
    "# Turn a line into a <line_length x 1 x n_letters>,\n",
    "# or an array of one-hot letter vectors\n",
    "def lineToTensor(line):\n",
    "    tensor = torch.zeros(len(line), 1, n_letters)\n",
    "    for li, letter in enumerate(line):\n",
    "        tensor[li][0][letterToIndex(letter)] = 1\n",
    "    return tensor\n",
    "\n",
    "print(letterToTensor('a'))\n",
    "print(letterToTensor('b'))\n",
    "print(letterToTensor('c'))\n",
    "\n",
    "print(lineToTensor('adnexa').size())"
   ]
  },
  {
   "cell_type": "code",
   "execution_count": 3,
   "metadata": {},
   "outputs": [],
   "source": [
    "import torch.nn as nn\n",
    "\n",
    "class RNN(nn.Module):\n",
    "    def __init__(self, input_size, hidden_size, output_size):\n",
    "        super(RNN, self).__init__()\n",
    "\n",
    "        self.hidden_size = hidden_size\n",
    "\n",
    "        self.i2h = nn.Linear(input_size + hidden_size, hidden_size)\n",
    "        self.i2o = nn.Linear(input_size + hidden_size, output_size)\n",
    "        #self.dropout = nn.Dropout(0.1)\n",
    "        self.softmax = nn.LogSoftmax(dim=1)\n",
    "\n",
    "    def forward(self, input, hidden):\n",
    "        combined = torch.cat((input, hidden), 1)\n",
    "        hidden = self.i2h(combined)\n",
    "        output = self.i2o(combined)\n",
    "        #output = self.dropout(output)\n",
    "        output = self.softmax(output)\n",
    "        return output, hidden\n",
    "\n",
    "    def initHidden(self):\n",
    "        return torch.zeros(1, self.hidden_size)\n",
    "\n",
    "n_hidden = 128\n",
    "rnn = RNN(n_letters, n_hidden, n_categories)"
   ]
  },
  {
   "cell_type": "code",
   "execution_count": 4,
   "metadata": {},
   "outputs": [
    {
     "name": "stdout",
     "output_type": "stream",
     "text": [
      "tensor([[-1.7547, -1.7737, -1.8391, -1.7886, -1.8575, -1.7423]],\n",
      "       grad_fn=<LogSoftmaxBackward>)\n",
      "('disorder', 5)\n"
     ]
    }
   ],
   "source": [
    "def categoryFromOutput(output):\n",
    "    top_n, top_i = output.topk(1)\n",
    "    category_i = top_i[0].item()\n",
    "    return all_categories[category_i], category_i\n",
    "\n",
    "input = lineToTensor('adnexa')\n",
    "hidden = torch.zeros(1, n_hidden)\n",
    "\n",
    "output, next_hidden = rnn(input[0], hidden)\n",
    "print(output)\n",
    "print(categoryFromOutput(output))"
   ]
  },
  {
   "cell_type": "code",
   "execution_count": 5,
   "metadata": {},
   "outputs": [
    {
     "name": "stdout",
     "output_type": "stream",
     "text": [
      "category = morphologic_abnormality / line = wounds\n",
      "category = qualifier_value / line = right  to  left\n",
      "category = qualifier_value / line = elevated\n",
      "category = finding / line = supine position\n",
      "category = finding / line = bronchial breath sounds\n",
      "category = procedure / line = ULTRASOUND\n",
      "category = disorder / line = respiratory failure\n",
      "category = body_structure / line = S\n",
      "category = morphologic_abnormality / line = obstruction\n",
      "category = morphologic_abnormality / line = narrowing\n"
     ]
    }
   ],
   "source": [
    "import random\n",
    "\n",
    "def randomChoice(l):\n",
    "    return l[random.randint(0, len(l) - 1)]\n",
    "\n",
    "def randomTrainingExample():\n",
    "    category = randomChoice(all_categories)\n",
    "    line = randomChoice(category_lines[category])\n",
    "    category_tensor = torch.tensor([all_categories.index(category)], dtype=torch.long)\n",
    "    line_tensor = lineToTensor(line)\n",
    "    return category, line, category_tensor, line_tensor\n",
    "\n",
    "for i in range(10):\n",
    "    category, line, category_tensor, line_tensor = randomTrainingExample()\n",
    "    print('category =', category, '/ line =', line)"
   ]
  },
  {
   "cell_type": "code",
   "execution_count": 6,
   "metadata": {},
   "outputs": [],
   "source": [
    "criterion = nn.NLLLoss()\n",
    "learning_rate = 0.0005 # If you set this too high, it might explode. If too low, it might not learn\n",
    "\n",
    "def train(category_tensor, line_tensor):\n",
    "    hidden = rnn.initHidden()\n",
    "\n",
    "    rnn.zero_grad()\n",
    "\n",
    "    for i in range(line_tensor.size()[0]):\n",
    "        output, hidden = rnn(line_tensor[i], hidden)\n",
    "\n",
    "    loss = criterion(output, category_tensor)\n",
    "    loss.backward()\n",
    "\n",
    "    # Add parameters' gradients to their values, multiplied by learning rate\n",
    "    for p in rnn.parameters():\n",
    "        p.data.add_(-learning_rate, p.grad.data)\n",
    "\n",
    "    return output, loss.item()"
   ]
  },
  {
   "cell_type": "code",
   "execution_count": 7,
   "metadata": {},
   "outputs": [
    {
     "name": "stdout",
     "output_type": "stream",
     "text": [
      "5000 2% (0m 9s) 1.8470 Ultrasound / disorder ✗ (procedure)\n",
      "10000 5% (0m 18s) 1.8383 ABNORMAL / finding ✗ (qualifier_value)\n",
      "15000 7% (0m 28s) 1.7110 immediate / qualifier_value ✓\n",
      "20000 10% (0m 38s) 1.6372 pulmonary / procedure ✗ (qualifier_value)\n",
      "25000 12% (0m 47s) 1.7317 sclera / disorder ✗ (body_structure)\n",
      "30000 15% (0m 56s) 1.6923 right / procedure ✗ (qualifier_value)\n",
      "35000 17% (1m 6s) 1.7576 procedure complications / finding ✗ (disorder)\n",
      "40000 20% (1m 17s) 1.3969 Cystolithalopaxy / procedure ✓\n",
      "45000 22% (1m 28s) 1.7831 apraxia / disorder ✗ (finding)\n",
      "50000 25% (1m 42s) 1.8108 Sex / body_structure ✗ (finding)\n",
      "55000 27% (1m 53s) 1.3715 collecting system / body_structure ✓\n",
      "60000 30% (2m 3s) 1.8865 retired / qualifier_value ✗ (finding)\n",
      "65000 32% (2m 12s) 1.7176 L / qualifier_value ✗ (body_structure)\n",
      "70000 35% (2m 21s) 1.9214 bizarre behavior / morphologic_abnormality ✗ (finding)\n",
      "75000 37% (2m 31s) 1.8900 damage / qualifier_value ✗ (morphologic_abnormality)\n",
      "80000 40% (2m 41s) 1.4159 seizures / body_structure ✗ (finding)\n",
      "85000 42% (2m 51s) 2.2962 fascia / disorder ✗ (body_structure)\n",
      "90000 45% (3m 0s) 1.5611 gram stain / disorder ✗ (procedure)\n",
      "95000 47% (3m 9s) 2.9458 CRP level / qualifier_value ✗ (procedure)\n",
      "100000 50% (3m 21s) 1.5814 Midline incision / morphologic_abnormality ✗ (procedure)\n",
      "105000 52% (3m 35s) 1.8118 THROMBUS / qualifier_value ✗ (morphologic_abnormality)\n",
      "110000 55% (3m 47s) 0.8841 ULTRASOUND / procedure ✓\n",
      "115000 57% (4m 0s) 1.7629 cardiac cath / body_structure ✗ (procedure)\n",
      "120000 60% (4m 13s) 1.7285 bowel obstructions / procedure ✗ (disorder)\n",
      "125000 62% (4m 26s) 0.9785 catheterization / procedure ✓\n",
      "130000 65% (4m 40s) 1.8060 exposure / morphologic_abnormality ✗ (disorder)\n",
      "135000 67% (4m 55s) 1.9659 smoker / body_structure ✗ (finding)\n",
      "140000 70% (5m 9s) 1.3589 hyperemia / disorder ✗ (morphologic_abnormality)\n",
      "145000 72% (5m 20s) 1.8448 teaching / finding ✗ (procedure)\n",
      "150000 75% (5m 30s) 0.6994 right kidney / body_structure ✓\n",
      "155000 77% (5m 41s) 3.1186 dentition / morphologic_abnormality ✗ (body_structure)\n",
      "160000 80% (5m 51s) 0.6610 spinal metastasis / disorder ✓\n",
      "165000 82% (6m 1s) 1.7570 Iron ALLERGIES / procedure ✗ (disorder)\n",
      "170000 85% (6m 11s) 0.6545 Early / qualifier_value ✓\n",
      "175000 87% (6m 23s) 0.4135 erosions / morphologic_abnormality ✓\n",
      "180000 90% (6m 34s) 1.2894 coagulation / morphologic_abnormality ✗ (procedure)\n",
      "185000 92% (6m 46s) 1.3064 tube feedings / procedure ✓\n",
      "190000 95% (6m 56s) 1.5716 PAINFUL / body_structure ✗ (finding)\n",
      "195000 97% (7m 6s) 1.2826 screening / finding ✗ (qualifier_value)\n",
      "200000 100% (7m 20s) 0.5452 disc space narrowing / finding ✓\n"
     ]
    }
   ],
   "source": [
    "import time\n",
    "import math\n",
    "\n",
    "n_iters = 200000\n",
    "print_every = 5000\n",
    "plot_every = 1000\n",
    "\n",
    "# Keep track of losses for plotting\n",
    "current_loss = 0\n",
    "all_losses = []\n",
    "\n",
    "def timeSince(since):\n",
    "    now = time.time()\n",
    "    s = now - since\n",
    "    m = math.floor(s / 60)\n",
    "    s -= m * 60\n",
    "    return '%dm %ds' % (m, s)\n",
    "\n",
    "start = time.time()\n",
    "\n",
    "for iter in range(1, n_iters + 1):\n",
    "    category, line, category_tensor, line_tensor = randomTrainingExample()\n",
    "    output, loss = train(category_tensor, line_tensor)\n",
    "    current_loss += loss\n",
    "\n",
    "    # Print iter number, loss, name and guess\n",
    "    if iter % print_every == 0:\n",
    "        guess, guess_i = categoryFromOutput(output)\n",
    "        correct = '✓' if guess == category else '✗ (%s)' % category\n",
    "        print('%d %d%% (%s) %.4f %s / %s %s' % (iter, iter / n_iters * 100, timeSince(start), loss, line, guess, correct))\n",
    "\n",
    "    # Add current loss avg to list of losses\n",
    "    if iter % plot_every == 0:\n",
    "        all_losses.append(current_loss / plot_every)\n",
    "        current_loss = 0"
   ]
  },
  {
   "cell_type": "code",
   "execution_count": 9,
   "metadata": {},
   "outputs": [
    {
     "data": {
      "text/plain": [
       "[<matplotlib.lines.Line2D at 0x11bc7dba8>]"
      ]
     },
     "execution_count": 9,
     "metadata": {},
     "output_type": "execute_result"
    },
    {
     "data": {
      "image/png": "[encoded data removed]",
      "text/plain": [
       "<Figure size 432x288 with 1 Axes>"
      ]
     },
     "metadata": {
      "needs_background": "light"
     },
     "output_type": "display_data"
    }
   ],
   "source": [
    "import matplotlib.pyplot as plt\n",
    "import matplotlib.ticker as ticker\n",
    "\n",
    "plt.figure()\n",
    "plt.plot(all_losses)"
   ]
  },
  {
   "cell_type": "code",
   "execution_count": 10,
   "metadata": {},
   "outputs": [
    {
     "data": {
      "image/png": "[encoded data removed]",
      "text/plain": [
       "<Figure size 432x288 with 2 Axes>"
      ]
     },
     "metadata": {
      "needs_background": "light"
     },
     "output_type": "display_data"
    }
   ],
   "source": [
    "# Keep track of correct guesses in a confusion matrix\n",
    "confusion = torch.zeros(n_categories, n_categories)\n",
    "n_confusion = 10000\n",
    "\n",
    "# Just return an output given a line\n",
    "def evaluate(line_tensor):\n",
    "    hidden = rnn.initHidden()\n",
    "\n",
    "    for i in range(line_tensor.size()[0]):\n",
    "        output, hidden = rnn(line_tensor[i], hidden)\n",
    "\n",
    "    return output\n",
    "\n",
    "# Go through a bunch of examples and record which are correctly guessed\n",
    "for i in range(n_confusion):\n",
    "    category, line, category_tensor, line_tensor = randomTrainingExample()\n",
    "    output = evaluate(line_tensor)\n",
    "    guess, guess_i = categoryFromOutput(output)\n",
    "    category_i = all_categories.index(category)\n",
    "    confusion[category_i][guess_i] += 1\n",
    "\n",
    "# Normalize by dividing every row by its sum\n",
    "for i in range(n_categories):\n",
    "    confusion[i] = confusion[i] / confusion[i].sum()\n",
    "\n",
    "# Set up plot\n",
    "fig = plt.figure()\n",
    "ax = fig.add_subplot(111)\n",
    "cax = ax.matshow(confusion.numpy())\n",
    "fig.colorbar(cax)\n",
    "\n",
    "# Set up axes\n",
    "ax.set_xticklabels([''] + all_categories, rotation=90)\n",
    "ax.set_yticklabels([''] + all_categories)\n",
    "\n",
    "# Force label at every tick\n",
    "ax.xaxis.set_major_locator(ticker.MultipleLocator(1))\n",
    "ax.yaxis.set_major_locator(ticker.MultipleLocator(1))\n",
    "\n",
    "# sphinx_gallery_thumbnail_number = 2\n",
    "plt.show()"
   ]
  },
  {
   "cell_type": "code",
   "execution_count": 13,
   "metadata": {},
   "outputs": [],
   "source": [
    "def predict(input_line, n_predictions=3):\n",
    "    print('\\n> %s' % input_line)\n",
    "    with torch.no_grad():\n",
    "        output = evaluate(lineToTensor(input_line))\n",
    "\n",
    "        # Get top N categories\n",
    "        topv, topi = output.topk(n_predictions, 1, True)\n",
    "        predictions = []\n",
    "\n",
    "        for i in range(n_predictions):\n",
    "            value = topv[0][i].item()\n",
    "            category_index = topi[0][i].item()\n",
    "            print('(%.2f) %s' % (value, all_categories[category_index]))\n",
    "            predictions.append([value, all_categories[category_index]])"
   ]
  },
  {
   "cell_type": "code",
   "execution_count": 27,
   "metadata": {},
   "outputs": [
    {
     "name": "stdout",
     "output_type": "stream",
     "text": [
      "\n",
      "> seizures\n",
      "(-0.94) finding\n",
      "(-1.34) morphologic_abnormality\n",
      "(-1.67) body_structure\n",
      "\n",
      "> seizure\n",
      "(-1.22) finding\n",
      "(-1.37) morphologic_abnormality\n",
      "(-1.83) body_structure\n",
      "\n",
      "> lung\n",
      "(-1.22) body_structure\n",
      "(-1.29) finding\n",
      "(-1.97) morphologic_abnormality\n",
      "\n",
      "> pneumonia\n",
      "(-0.64) disorder\n",
      "(-1.29) finding\n",
      "(-2.33) qualifier_value\n",
      "\n",
      "> adnexa\n",
      "(-0.86) body_structure\n",
      "(-1.20) finding\n",
      "(-2.08) qualifier_value\n",
      "\n",
      "> aortic valve\n",
      "(-0.36) body_structure\n",
      "(-1.81) qualifier_value\n",
      "(-2.95) finding\n",
      "\n",
      "> Aortic valve\n",
      "(-0.47) body_structure\n",
      "(-1.46) qualifier_value\n",
      "(-2.74) finding\n"
     ]
    }
   ],
   "source": [
    "predict('seizures')\n",
    "predict('seizure')\n",
    "predict('lung')\n",
    "predict('pneumonia')\n",
    "predict('adnexa')\n",
    "predict('aortic valve')\n",
    "predict('Aortic valve')"
   ]
  },
  {
   "cell_type": "code",
   "execution_count": 28,
   "metadata": {},
   "outputs": [
    {
     "name": "stdout",
     "output_type": "stream",
     "text": [
      "\n",
      "> artherosclerosis\n",
      "(-0.57) disorder\n",
      "(-1.19) finding\n",
      "(-3.04) body_structure\n",
      "\n",
      "> nodule\n",
      "(-1.07) body_structure\n",
      "(-1.14) morphologic_abnormality\n",
      "(-1.83) qualifier_value\n",
      "\n",
      "> necrotizing enterocolitis\n",
      "(-0.09) disorder\n",
      "(-2.72) finding\n",
      "(-4.82) procedure\n",
      "\n",
      "> enterocolitis\n",
      "(-0.17) disorder\n",
      "(-2.50) finding\n",
      "(-3.53) morphologic_abnormality\n"
     ]
    }
   ],
   "source": [
    "predict('artherosclerosis')\n",
    "predict('nodule')\n",
    "predict('necrotizing enterocolitis')\n",
    "predict('enterocolitis')"
   ]
  },
  {
   "cell_type": "code",
   "execution_count": 29,
   "metadata": {},
   "outputs": [
    {
     "name": "stdout",
     "output_type": "stream",
     "text": [
      "\n",
      "> ex-smoker\n",
      "(-1.11) finding\n",
      "(-1.41) disorder\n",
      "(-1.61) body_structure\n",
      "\n",
      "> Ex-smoker\n",
      "(-1.02) finding\n",
      "(-1.56) body_structure\n",
      "(-1.63) qualifier_value\n",
      "\n",
      "> non-smoker\n",
      "(-1.16) finding\n",
      "(-1.31) body_structure\n",
      "(-1.71) disorder\n",
      "\n",
      "> ex - smoker\n",
      "(-0.76) finding\n",
      "(-1.26) body_structure\n",
      "(-1.89) disorder\n",
      "\n",
      "> ex smoker\n",
      "(-0.83) finding\n",
      "(-1.30) body_structure\n",
      "(-1.90) disorder\n"
     ]
    }
   ],
   "source": [
    "predict('ex-smoker')\n",
    "predict('Ex-smoker')\n",
    "predict('non-smoker')\n",
    "predict('ex - smoker')\n",
    "predict('ex smoker')"
   ]
  }
 ],
 "metadata": {
  "kernelspec": {
   "display_name": "Python 3",
   "language": "python",
   "name": "python3"
  },
  "language_info": {
   "codemirror_mode": {
    "name": "ipython",
    "version": 3
   },
   "file_extension": ".py",
   "mimetype": "text/x-python",
   "name": "python",
   "nbconvert_exporter": "python",
   "pygments_lexer": "ipython3",
   "version": "3.7.0"
  }
 },
 "nbformat": 4,
 "nbformat_minor": 2
}
