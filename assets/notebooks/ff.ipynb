{
 "cells": [
  {
   "cell_type": "markdown",
   "metadata": {},
   "source": [
    "# Feedforward Neural Networks"
   ]
  },
  {
   "cell_type": "code",
   "execution_count": 22,
   "metadata": {},
   "outputs": [],
   "source": [
    "import matplotlib\n",
    "import numpy as np\n",
    "import matplotlib.pyplot as plt\n",
    "%matplotlib inline"
   ]
  },
  {
   "cell_type": "markdown",
   "metadata": {},
   "source": [
    "## Non-linear Transfer Functions"
   ]
  },
  {
   "cell_type": "code",
   "execution_count": 23,
   "metadata": {},
   "outputs": [
    {
     "data": {
      "image/png": "[encoded data removed]",
      "text/plain": [
       "<Figure size 432x288 with 1 Axes>"
      ]
     },
     "metadata": {
      "needs_background": "light"
     },
     "output_type": "display_data"
    }
   ],
   "source": [
    "relu = lambda z: np.maximum(z,0)\n",
    "in_array = np.linspace(-12, 12, 100) \n",
    "out_array = relu(in_array) \n",
    "plt.plot(in_array, out_array, color = 'red', marker = \"o\") \n",
    "plt.title(\"relu()\") \n",
    "plt.xlabel(\"z\") \n",
    "plt.ylabel(\"relu(z)\") \n",
    "plt.show() "
   ]
  },
  {
   "cell_type": "code",
   "execution_count": 25,
   "metadata": {},
   "outputs": [
    {
     "data": {
      "image/png": "[encoded data removed]",
      "text/plain": [
       "<Figure size 432x288 with 1 Axes>"
      ]
     },
     "metadata": {
      "needs_background": "light"
     },
     "output_type": "display_data"
    }
   ],
   "source": [
    "in_array = np.linspace(-12, 12, 100) \n",
    "out_array = np.tanh(in_array) \n",
    "plt.plot(in_array, out_array, color = 'red', marker = \"o\") \n",
    "plt.title(\"tanh()\") \n",
    "plt.xlabel(\"z\") \n",
    "plt.ylabel(\"tanh(z)\") \n",
    "plt.show() "
   ]
  },
  {
   "cell_type": "code",
   "execution_count": 26,
   "metadata": {},
   "outputs": [
    {
     "data": {
      "image/png": "[encoded data removed]",
      "text/plain": [
       "<Figure size 432x288 with 1 Axes>"
      ]
     },
     "metadata": {
      "needs_background": "light"
     },
     "output_type": "display_data"
    }
   ],
   "source": [
    "in_array = np.linspace(-12, 12, 100) \n",
    "out_array = np.tanh(in_array) \n",
    "gradient_array = np.gradient(out_array)\n",
    "plt.plot(in_array, gradient_array, color = 'red', marker = \"o\") \n",
    "plt.title(\"gradient of tanh()\") \n",
    "plt.xlabel(\"z\") \n",
    "plt.ylabel(\"gradient(tanh(z))\") \n",
    "plt.show() "
   ]
  },
  {
   "cell_type": "markdown",
   "metadata": {},
   "source": [
    "## XOR with a feedforward neural network\n"
   ]
  },
  {
   "cell_type": "markdown",
   "metadata": {},
   "source": [
    "The XOR problem:\n",
    "\n",
    "\\begin{align}\n",
    "x^1 &=& [0,0], y^1 = -1\\\\\n",
    "x^2 &=& [0,1], y^2 = +1 \\\\\n",
    "x^3 &=& [1,0], y^3 = +1\\\\\n",
    "x^4 &=& [1,1], y^4 = -1\n",
    "\\end{align}\n"
   ]
  },
  {
   "cell_type": "code",
   "execution_count": 27,
   "metadata": {},
   "outputs": [],
   "source": [
    "x = [ np.mat('0;0'), np.mat('1;0'), np.mat('0;1'), np.mat('1;1') ]"
   ]
  },
  {
   "cell_type": "markdown",
   "metadata": {},
   "source": [
    "For examples $(x^i, y^i)$ for $i = 1,\\ldots,4$ as defined previously for the feedforward neural network:\n",
    "\n",
    "$$ \\Pr(y \\mid x; W, b, v) = \\frac{exp\\left(v(y) \\cdot g(Wx + b) + \\gamma_y \\right)}{\\sum_{y' \\in {\\cal Y}} exp\\left(v(y') \\cdot g(Wx + b) + \\gamma_{y'})\\right)} $$\n",
    "\n",
    "where $x \\in \\mathbb{R}^2$ ($d=2$) and let $m=2$ so $W \\in \\mathbb{R}^{2\\times2}$ and $b \\in \\mathbb{R}^2$ and $g$ is a ReLU transfer function.\n",
    "\n",
    "Then there are parameter settings $v(-1)$, $v(+1)$, $\\gamma_{-1}$, $\\gamma_{+1}$, $W, b$ such that \n",
    "\n",
    "$$ p(y^i \\mid x^i; v) > 0.5 \\textrm{   for } i = 1, \\ldots, 4 $$"
   ]
  },
  {
   "cell_type": "code",
   "execution_count": 28,
   "metadata": {},
   "outputs": [
    {
     "name": "stdout",
     "output_type": "stream",
     "text": [
      "x_0:\n",
      "[[0]\n",
      " [0]]\n",
      "x_1:\n",
      "[[1]\n",
      " [0]]\n",
      "x_2:\n",
      "[[0]\n",
      " [1]]\n",
      "x_3:\n",
      "[[1]\n",
      " [1]]\n"
     ]
    }
   ],
   "source": [
    "W = np.mat('1.0, 1.0; 1.0, 1.0')\n",
    "b = np.mat('0;-1')\n",
    "for i, v in enumerate(x): \n",
    "    print(\"x_{}:\\n{}\".format(i, v))"
   ]
  },
  {
   "cell_type": "markdown",
   "metadata": {},
   "source": [
    "$$ \\Pr(y \\mid x; W, b, v) = \\frac{exp\\left(v(y) \\cdot g(z) + \\gamma_y \\right)}{\\sum_{y' \\in {\\cal Y}} exp\\left(v(y') \\cdot g(z) + \\gamma_{y'})\\right)} $$\n",
    "\n",
    "$$g(z) = g(Wx + b)$$"
   ]
  },
  {
   "cell_type": "code",
   "execution_count": 29,
   "metadata": {},
   "outputs": [
    {
     "name": "stdout",
     "output_type": "stream",
     "text": [
      "z_0:\n",
      "[[ 0.]\n",
      " [-1.]]\n",
      "z_1:\n",
      "[[1.]\n",
      " [0.]]\n",
      "z_2:\n",
      "[[1.]\n",
      " [0.]]\n",
      "z_3:\n",
      "[[2.]\n",
      " [1.]]\n"
     ]
    }
   ],
   "source": [
    "z = list(map(lambda x: W * x + b, x))\n",
    "for i, v in enumerate(z): \n",
    "    print(\"z_{}:\\n{}\".format(i, v))"
   ]
  },
  {
   "cell_type": "markdown",
   "metadata": {},
   "source": [
    "$g$ is the ReLU transfer function $max(z,0)$"
   ]
  },
  {
   "cell_type": "code",
   "execution_count": 30,
   "metadata": {},
   "outputs": [
    {
     "name": "stdout",
     "output_type": "stream",
     "text": [
      "h_0:\n",
      "[[0.]\n",
      " [0.]]\n",
      "h_1:\n",
      "[[1.]\n",
      " [0.]]\n",
      "h_2:\n",
      "[[1.]\n",
      " [0.]]\n",
      "h_3:\n",
      "[[2.]\n",
      " [1.]]\n"
     ]
    }
   ],
   "source": [
    "relu = lambda z: np.maximum(z,0)\n",
    "h = list(map(relu, z))\n",
    "for i, v in enumerate(h): \n",
    "    print(\"h_{}:\\n{}\".format(i, v))"
   ]
  },
  {
   "cell_type": "markdown",
   "metadata": {},
   "source": [
    "\\begin{align}\n",
    "p(+1 \\mid x; v) &=& \\frac{exp(v(+1) \\cdot h  + \\gamma_{+1})}{exp(v(+1) \\cdot h  + \\gamma_{+1}) + exp(v(-1) \\cdot h + \\gamma_{-1})} \\\\\n",
    "&=& \\frac{1}{1 + exp(-(u \\cdot h + \\gamma))}\n",
    "\\end{align}\n",
    "\n",
    "To satisfy $P(y^i \\mid x^i; v) > 0.5$ for $i = 1,\\ldots,4$\n",
    "we have to find parameters $u = v(+1) - v(-1)$ and $\\gamma = \\gamma_{+1} - \\gamma_{-1}$\n",
    "such that:\n",
    "\n",
    "\\begin{align}\n",
    "u \\cdot [0,0] + \\gamma &<& 0 \\\\\n",
    "u \\cdot [1,0] + \\gamma &>& 0 \\\\\n",
    "u \\cdot [1,0] + \\gamma &>& 0 \\\\\n",
    "u \\cdot [2,1] + \\gamma &<& 0 ",
    "\\end{align}\n",
    "\n",
    "$u = [1, -2]$ and $\\gamma = -0.5$ satisfies these constraints."
   ]
  },
  {
   "cell_type": "code",
   "execution_count": 31,
   "metadata": {},
   "outputs": [
    {
     "name": "stdout",
     "output_type": "stream",
     "text": [
      "[[-0.5]]\n",
      "[[0.5]]\n",
      "[[0.5]]\n",
      "[[-0.5]]\n"
     ]
    }
   ],
   "source": [
    "u = np.mat('1,-2')\n",
    "gamma = -0.5\n",
    "results = list(map(lambda x: u * x + gamma, h))\n",
    "for i in results:\n",
    "    print(i)"
   ]
  },
  {
   "cell_type": "code",
   "execution_count": 32,
   "metadata": {},
   "outputs": [
    {
     "data": {
      "text/html": [
       "<style>\n",
       "    @font-face {\n",
       "        font-family: \"Computer Modern\";\n",
       "        src: url('http://9dbb143991406a7c655e-aa5fcb0a5a4ec34cff238a2d56ca4144.r56.cf5.rackcdn.com/cmunss.otf');\n",
       "    }\n",
       "    @font-face {\n",
       "        font-family: \"Computer Modern\";\n",
       "        font-weight: bold;\n",
       "        src: url('http://9dbb143991406a7c655e-aa5fcb0a5a4ec34cff238a2d56ca4144.r56.cf5.rackcdn.com/cmunsx.otf');\n",
       "    }\n",
       "    @font-face {\n",
       "        font-family: \"Computer Modern\";\n",
       "        font-style: oblique;\n",
       "        src: url('http://9dbb143991406a7c655e-aa5fcb0a5a4ec34cff238a2d56ca4144.r56.cf5.rackcdn.com/cmunsi.otf');\n",
       "    }\n",
       "    @font-face {\n",
       "        font-family: \"Computer Modern\";\n",
       "        font-weight: bold;\n",
       "        font-style: oblique;\n",
       "        src: url('http://9dbb143991406a7c655e-aa5fcb0a5a4ec34cff238a2d56ca4144.r56.cf5.rackcdn.com/cmunso.otf');\n",
       "    }\n",
       "    div.cell{\n",
       "        width:800px;\n",
       "        font-size: 110%;\n",
       "        margin-left:5% !important;\n",
       "        margin-right:auto;\n",
       "    }\n",
       "    h1 {\n",
       "        font-family: Helvetica, serif;\n",
       "    }\n",
       "    h4{\n",
       "        margin-top:12px;\n",
       "        margin-bottom: 3px;\n",
       "       }\n",
       "    div.text_cell_render{\n",
       "        font-family: Computer Modern, \"Helvetica Neue\", Arial, Helvetica, Geneva, sans-serif;\n",
       "        line-height: 145%;\n",
       "        font-size: 110%;\n",
       "        width:800px;\n",
       "        margin-left:auto;\n",
       "        margin-right:auto;\n",
       "    }\n",
       "    .CodeMirror{\n",
       "            font-family: \"Source Code Pro\", source-code-pro,Consolas, monospace;\n",
       "            font-size: 110%;\n",
       "    }\n",
       "    .prompt{\n",
       "        display: None;\n",
       "    }\n",
       "    .text_cell_render h5 {\n",
       "        font-weight: 300;\n",
       "        font-size: 22pt;\n",
       "        color: #4057A1;\n",
       "        font-style: italic;\n",
       "        margin-bottom: .5em;\n",
       "        margin-top: 0.5em;\n",
       "        display: block;\n",
       "    }\n",
       "    \n",
       "    .warning{\n",
       "        color: rgb( 240, 20, 20 )\n",
       "        }  \n",
       "\n",
       "</style>\n",
       "<script>\n",
       "    MathJax.Hub.Config({\n",
       "                        TeX: {\n",
       "                           extensions: [\"AMSmath.js\"]\n",
       "                           },\n",
       "                tex2jax: {\n",
       "                    inlineMath: [ ['$','$'], [\"\\\\(\",\"\\\\)\"] ],\n",
       "                    displayMath: [ ['$$','$$'], [\"\\\\[\",\"\\\\]\"] ]\n",
       "                },\n",
       "                displayAlign: 'center', // Change this to 'center' to center equations.\n",
       "                \"HTML-CSS\": {\n",
       "                    styles: {'.MathJax_Display': {\"margin\": 4}}\n",
       "                }\n",
       "        });\n",
       "</script>\n"
      ],
      "text/plain": [
       "<IPython.core.display.HTML object>"
      ]
     },
     "execution_count": 32,
     "metadata": {},
     "output_type": "execute_result"
    }
   ],
   "source": [
    "from IPython.core.display import HTML\n",
    "\n",
    "def css_styling():\n",
    "    styles = open(\"../css/notebook.css\", \"r\").read()\n",
    "    return HTML(styles)\n",
    "css_styling()"
   ]
  }
 ],
 "metadata": {
  "kernelspec": {
   "display_name": "Python 3",
   "language": "python",
   "name": "python3"
  },
  "language_info": {
   "codemirror_mode": {
    "name": "ipython",
    "version": 3
   },
   "file_extension": ".py",
   "mimetype": "text/x-python",
   "name": "python",
   "nbconvert_exporter": "python",
   "pygments_lexer": "ipython3",
   "version": "3.6.5"
  }
 },
 "nbformat": 4,
 "nbformat_minor": 2
}
