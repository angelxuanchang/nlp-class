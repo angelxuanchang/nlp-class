{
 "cells": [
  {
   "cell_type": "markdown",
   "metadata": {
    "slideshow": {
     "slide_type": "slide"
    }
   },
   "source": [
    "# Probability Models for NLP"
   ]
  },
  {
   "cell_type": "markdown",
   "metadata": {
    "slideshow": {
     "slide_type": "fragment"
    }
   },
   "source": [
    "## Anoop Sarkar"
   ]
  },
  {
   "cell_type": "markdown",
   "metadata": {
    "slideshow": {
     "slide_type": "subslide"
    }
   },
   "source": [
    "This is a brief, interactive guide to probability theory. It provides an  introduction to the basic concepts we will rely on to build models of uncertainty in natural language processing."
   ]
  },
  {
   "cell_type": "code",
   "execution_count": 5,
   "metadata": {
    "slideshow": {
     "slide_type": "skip"
    }
   },
   "outputs": [],
   "source": [
    "%matplotlib inline\n",
    "import numpy\n",
    "import matplotlib\n",
    "import matplotlib.pyplot as plt\n",
    "import pylab\n",
    "import nltk\n",
    "import random\n",
    "import json\n",
    "from operator import itemgetter\n",
    "from collections import defaultdict"
   ]
  },
  {
   "cell_type": "markdown",
   "metadata": {
    "slideshow": {
     "slide_type": "slide"
    }
   },
   "source": [
    "## NLTK as a data source"
   ]
  },
  {
   "cell_type": "markdown",
   "metadata": {
    "slideshow": {
     "slide_type": "skip"
    }
   },
   "source": [
    "We will use the [Python Natural Language Toolkit](http://nltk.org) as a source of data. \n",
    "First step, let us load up some text data from Lewis Carroll's \"Alice's Adventures in Wonderland\" and print out the first few words from the book. \n",
    "Notice that NLTK has already split up all the text in that book into tokens we can use."
   ]
  },
  {
   "cell_type": "code",
   "execution_count": 6,
   "metadata": {
    "slideshow": {
     "slide_type": "fragment"
    }
   },
   "outputs": [
    {
     "name": "stdout",
     "output_type": "stream",
     "text": [
      "['[', 'Alice', \"'\", 's', 'Adventures', 'in', 'Wonderland', 'by', 'Lewis', 'Carroll', '1865', ']', 'CHAPTER', 'I', '.', 'Down', 'the', 'Rabbit', '-', 'Hole', 'Alice', 'was', 'beginning', 'to', 'get', 'very', 'tired', 'of', 'sitting', 'by', 'her', 'sister', 'on', 'the', 'bank', ',', 'and', 'of', 'having', 'nothing', 'to', 'do', ':', 'once', 'or', 'twice', 'she', 'had', 'peeped', 'into', 'the', 'book', 'her', 'sister', 'was', 'reading', ',', 'but', 'it', 'had', 'no', 'pictures', 'or', 'conversations', 'in', 'it', ',', \"'\", 'and', 'what', 'is', 'the', 'use', 'of', 'a', 'book', \",'\", 'thought', 'Alice', \"'\", 'without', 'pictures', 'or', 'conversation', \"?'\"]\n"
     ]
    }
   ],
   "source": [
    "from itertools import islice\n",
    "# print the first few words from Lewis Carroll's \"Alice's Adventures in Wonderland\"\n",
    "# islice takes the first n elements from the iterator without building the whole list of words for the document\n",
    "print([w for w in islice(nltk.corpus.gutenberg.words('carroll-alice.txt'),85)])"
   ]
  },
  {
   "cell_type": "markdown",
   "metadata": {
    "slideshow": {
     "slide_type": "slide"
    }
   },
   "source": [
    "## Probability Distributions"
   ]
  },
  {
   "cell_type": "markdown",
   "metadata": {
    "slideshow": {
     "slide_type": "fragment"
    }
   },
   "source": [
    "### Sampling without replacement"
   ]
  },
  {
   "cell_type": "markdown",
   "metadata": {
    "slideshow": {
     "slide_type": "skip"
    }
   },
   "source": [
    "For now, let us view the text as a bag of letters taken from the English alphabet. By a \"bag\" of letters, we mean that we take this book to consist of unordered letter tokens, and so the ordering or the sequence in which the letters occur is ignored for now.\n",
    "\n",
    "To create a new sample, we simply choose a letter at random and add it to our sample. We do not remove the letter from our list because we are *sampling with replacement*, and repeatedly sample again and again until we reach a sample of a desired size."
   ]
  },
  {
   "cell_type": "markdown",
   "metadata": {
    "slideshow": {
     "slide_type": "skip"
    }
   },
   "source": [
    "The class `lettersample` below produces a sample of a desired size `num`. If a letter appears more often in the original list of letters from which we are sampling, then that letter will appear proportionally more often in our sample."
   ]
  },
  {
   "cell_type": "code",
   "execution_count": 7,
   "metadata": {
    "slideshow": {
     "slide_type": "skip"
    }
   },
   "outputs": [],
   "source": [
    "# sample letters from a document with replacement\n",
    "class lettersample:\n",
    "    \n",
    "    def __init__(self, num):\n",
    "        self.corpus = [c.lower() for sent in nltk.corpus.gutenberg.sents('carroll-alice.txt') for c in ''.join(sent)]\n",
    "        self.sample = [random.choice(self.corpus) for i in range(num)]\n",
    "\n",
    "    # __str__ creates a printable representation of the object\n",
    "    def __str__(self):\n",
    "        return ''.join(self.sample)"
   ]
  },
  {
   "cell_type": "code",
   "execution_count": 8,
   "metadata": {
    "slideshow": {
     "slide_type": "fragment"
    }
   },
   "outputs": [
    {
     "name": "stdout",
     "output_type": "stream",
     "text": [
      "todehf\n"
     ]
    }
   ],
   "source": [
    "s = lettersample(6)\n",
    "print(''.join(s.sample)) # print the sample"
   ]
  },
  {
   "cell_type": "markdown",
   "metadata": {
    "slideshow": {
     "slide_type": "slide"
    }
   },
   "source": [
    "### Creating a probability distribution from a sample"
   ]
  },
  {
   "cell_type": "markdown",
   "metadata": {
    "slideshow": {
     "slide_type": "fragment"
    }
   },
   "source": [
    "When we have a sample, we can count how many times each letter $c$ occured in the sample. Let us call this the frequency of $c$ or $n(c)$.\n",
    "\n",
    "For example, if we have a random sample of size 6: $eeaaei$ then $n(e) = 3$, $n(a) = 2$, $n(i) = 1$. Notice that $\\sum_{c} n(c) = n(e) + n(a) + n(i) = 6$ which is the sample size."
   ]
  },
  {
   "cell_type": "code",
   "execution_count": 9,
   "metadata": {
    "slideshow": {
     "slide_type": "slide"
    }
   },
   "outputs": [
    {
     "name": "stdout",
     "output_type": "stream",
     "text": [
      "{\n",
      "    \"f\": 1,\n",
      "    \"g\": 1,\n",
      "    \"t\": 1,\n",
      "    \"y\": 1,\n",
      "    \".\": 1,\n",
      "    \"h\": 1\n",
      "}\n",
      "sample size: 6\n"
     ]
    }
   ],
   "source": [
    "s = lettersample(6)\n",
    "n = defaultdict(int)\n",
    "for c in s.sample:\n",
    "    n[c] += 1\n",
    "print(json.dumps(n, indent=4))\n",
    "print(\"sample size:\", sum(n.values()))"
   ]
  },
  {
   "cell_type": "markdown",
   "metadata": {
    "slideshow": {
     "slide_type": "slide"
    }
   },
   "source": [
    "\n",
    "\n",
    "We can create probability distribution over the set of letters (the alphabet) by simply summing over the number of times we observed a letter in the sample and dividing by the number of times we observed all the letters (which is the same as the size of the sample). If $n(c)$ is the count of letter $c$ then we can write down the probability of any letter $c$ as \n",
    "\n",
    "$$ P(c) = \\frac{n(c)}{\\sum_{c'} n(c')} $$\n",
    "\n",
    "As we just observed in the above example, $\\sum_{c'} n(c')$ is equal to the sample size.\n",
    "\n",
    "$P(c)$ is called the unigram letter probability."
   ]
  },
  {
   "cell_type": "code",
   "execution_count": 10,
   "metadata": {
    "slideshow": {
     "slide_type": "slide"
    }
   },
   "outputs": [
    {
     "name": "stdout",
     "output_type": "stream",
     "text": [
      "{\n",
      "    \"f\": 0.16666666666666666,\n",
      "    \"g\": 0.16666666666666666,\n",
      "    \"t\": 0.16666666666666666,\n",
      "    \"y\": 0.16666666666666666,\n",
      "    \".\": 0.16666666666666666,\n",
      "    \"h\": 0.16666666666666666\n",
      "}\n"
     ]
    }
   ],
   "source": [
    "total = sum(n.values())\n",
    "prob = { c: (n[c] / total) for c in list(n.keys()) }\n",
    "print(json.dumps(prob, indent=4))"
   ]
  },
  {
   "cell_type": "markdown",
   "metadata": {
    "slideshow": {
     "slide_type": "slide"
    }
   },
   "source": [
    "### Probability distribution"
   ]
  },
  {
   "cell_type": "markdown",
   "metadata": {
    "slideshow": {
     "slide_type": "fragment"
    }
   },
   "source": [
    "A probability is a real number between zero and one. A probability distribution is created over a set where each element in the set has a probability and the sum over all elements in this set must sum to one. So if our set was called $S$ then this condition on the probability distribution $P$ over elements of set $S$ is written as \n",
    "\n",
    "$$ \\sum_{c \\in S} P(c) = 1.0 $$\n"
   ]
  },
  {
   "cell_type": "code",
   "execution_count": 11,
   "metadata": {
    "slideshow": {
     "slide_type": "fragment"
    }
   },
   "outputs": [
    {
     "name": "stdout",
     "output_type": "stream",
     "text": [
      "1\n"
     ]
    }
   ],
   "source": [
    "print(format(sum(prob.values()), '.1g'))"
   ]
  },
  {
   "cell_type": "markdown",
   "metadata": {},
   "source": [
    "Read more about [floating point arithmetic](https://docs.python.org/3/tutorial/floatingpoint.html) to understand why `format` was used above."
   ]
  },
  {
   "cell_type": "markdown",
   "metadata": {
    "slideshow": {
     "slide_type": "slide"
    }
   },
   "source": [
    "* $S$ is the _sample space_\n",
    "* A random variable $X$ is a function from $S$ to disjoint subset of $S$\n",
    "\n",
    "For example:\n",
    "\n",
    "$S = \\{ a, b, c, \\ldots z \\}$\n",
    "\n",
    "$X(c) = c$ where $c \\in S$"
   ]
  },
  {
   "cell_type": "markdown",
   "metadata": {
    "slideshow": {
     "slide_type": "slide"
    }
   },
   "source": [
    "### Finding the argmax"
   ]
  },
  {
   "cell_type": "markdown",
   "metadata": {
    "slideshow": {
     "slide_type": "fragment"
    }
   },
   "source": [
    "Often we wish to compute the argmax using a probability distribution. The argmax function returns the element that has the highest probability. $$\\hat{c} = \\arg\\max_c P(c)$$"
   ]
  },
  {
   "cell_type": "code",
   "execution_count": 12,
   "metadata": {
    "slideshow": {
     "slide_type": "slide"
    }
   },
   "outputs": [
    {
     "name": "stdout",
     "output_type": "stream",
     "text": [
      "f 0.16666666666666666\n"
     ]
    }
   ],
   "source": [
    "def P(c):\n",
    "    return prob[c]\n",
    "# the character with the highest probability is given by argmax_c P(c)\n",
    "argmax_char = max(list(n.keys()), key=P)\n",
    "print(argmax_char, P(argmax_char))"
   ]
  },
  {
   "cell_type": "markdown",
   "metadata": {
    "slideshow": {
     "slide_type": "slide"
    }
   },
   "source": [
    "### Sample size and probability estimates"
   ]
  },
  {
   "cell_type": "markdown",
   "metadata": {},
   "source": [
    "We can observe that larger samples result in a more accurate measurement of the probability."
   ]
  },
  {
   "cell_type": "code",
   "execution_count": 13,
   "metadata": {
    "slideshow": {
     "slide_type": "skip"
    }
   },
   "outputs": [],
   "source": [
    "def sample_dist(fdist):\n",
    "    return([ (sample, fdist[sample]) for sample in fdist ])\n",
    "\n",
    "def vertical_bars(sample_dist):\n",
    "    samples = list(map(itemgetter(0), sample_dist))\n",
    "    freqs = list(map(itemgetter(1), sample_dist))\n",
    "    # samples = fdist.samples()\n",
    "    # freqs = [ fdist[sample] for sample in samples ]\n",
    "    labels = [str(s) for s in samples]\n",
    "    fig, ax1 = plt.subplots(figsize=(15, 10))\n",
    "    pos = numpy.arange(len(labels))\n",
    "    ax1.bar(list(pos), list(freqs), facecolor='#9999ff', edgecolor='white')\n",
    "    font = matplotlib.font_manager.FontProperties()\n",
    "    font.set_size('x-large')\n",
    "    for x,y in zip(pos,freqs):\n",
    "        ax1.text(x+0.4, y+0.05, '%s' % labels[x], fontproperties=font, ha='center', va= 'bottom')\n",
    "    plt.tick_params(\\\n",
    "        axis='x',          # changes apply to the x-axis\n",
    "        which='both',      # both major and minor ticks are affected\n",
    "        bottom=False,      # ticks along the bottom edge are off\n",
    "        top=False,         # ticks along the top edge are off\n",
    "        labelbottom=False) # labels along the bottom edge are off\n",
    "    plt.show()"
   ]
  },
  {
   "cell_type": "markdown",
   "metadata": {
    "slideshow": {
     "slide_type": "fragment"
    }
   },
   "source": [
    "Let us plot the probability distribution over letters when the sample size is 100."
   ]
  },
  {
   "cell_type": "code",
   "execution_count": 14,
   "metadata": {
    "slideshow": {
     "slide_type": "fragment"
    }
   },
   "outputs": [
    {
     "name": "stdout",
     "output_type": "stream",
     "text": [
      "anodb'u,gcoauaioeandehhisee,rltaesetoeridostteatcisohfhtwyfueoewdoottrsldialqwavdwyieenrtowunrodushe\n"
     ]
    }
   ],
   "source": [
    "sample1 = lettersample(100)\n",
    "print(''.join(sample1.sample[:100])) # print the first 100 chars"
   ]
  },
  {
   "cell_type": "code",
   "execution_count": 15,
   "metadata": {
    "slideshow": {
     "slide_type": "slide"
    }
   },
   "outputs": [
    {
     "name": "stdout",
     "output_type": "stream",
     "text": [
      "[('a', 8), ('n', 4), ('o', 11), ('d', 7), ('b', 1), (\"'\", 1), ('u', 5), (',', 2), ('g', 1), ('c', 2), ('i', 6), ('e', 13), ('h', 5), ('s', 6), ('r', 5), ('l', 3), ('t', 9), ('f', 2), ('w', 5), ('y', 2), ('q', 1), ('v', 1)]\n"
     ]
    },
    {
     "data": {
      "image/png": "[encoded data removed]",
      "text/plain": [
       "<Figure size 1080x720 with 1 Axes>"
      ]
     },
     "metadata": {
      "needs_background": "light"
     },
     "output_type": "display_data"
    }
   ],
   "source": [
    "fdist1 = nltk.probability.FreqDist(sample1.sample)\n",
    "print(sample_dist(fdist1))\n",
    "s = sorted(sample_dist(fdist1), reverse=True, key=itemgetter(1))\n",
    "vertical_bars(s)"
   ]
  },
  {
   "cell_type": "markdown",
   "metadata": {
    "slideshow": {
     "slide_type": "slide"
    }
   },
   "source": [
    "Now let us take a larger sample of 100,000 characters. The plot of the probability distribution now shows a more accurate likelihood of each character in English."
   ]
  },
  {
   "cell_type": "code",
   "execution_count": 16,
   "metadata": {
    "slideshow": {
     "slide_type": "fragment"
    }
   },
   "outputs": [
    {
     "name": "stdout",
     "output_type": "stream",
     "text": [
      "nprtia.telgnaolhbtceaernn'dtwotes:lwhasidiethogut'qciuknusdmldhdayksrwalehtterdutie.eageestnaih,amsd\n"
     ]
    }
   ],
   "source": [
    "sample2 = lettersample(100000)\n",
    "print((''.join(sample2.sample[:100]))) # print the first 100 chars"
   ]
  },
  {
   "cell_type": "code",
   "execution_count": 17,
   "metadata": {
    "slideshow": {
     "slide_type": "slide"
    }
   },
   "outputs": [
    {
     "data": {
      "image/png": "[encoded data removed]",
      "text/plain": [
       "<Figure size 1080x720 with 1 Axes>"
      ]
     },
     "metadata": {
      "needs_background": "light"
     },
     "output_type": "display_data"
    }
   ],
   "source": [
    "fdist2 = nltk.probability.FreqDist(sample2.sample)\n",
    "vertical_bars(sorted(sample_dist(fdist2), reverse=True, key=itemgetter(1)))"
   ]
  },
  {
   "cell_type": "markdown",
   "metadata": {
    "slideshow": {
     "slide_type": "slide"
    }
   },
   "source": [
    "### Random Probability Distributions"
   ]
  },
  {
   "cell_type": "markdown",
   "metadata": {
    "slideshow": {
     "slide_type": "skip"
    }
   },
   "source": [
    "Now let us compare a character sample taken from a real English document with a totally random assignment of probabilities to English characters. The difference in the distribution is not just in the assignment of probabilities to individual characters, but the shape of the distribution is altogether different."
   ]
  },
  {
   "cell_type": "code",
   "execution_count": 18,
   "metadata": {
    "slideshow": {
     "slide_type": "fragment"
    }
   },
   "outputs": [
    {
     "data": {
      "image/png": "[encoded data removed]",
      "text/plain": [
       "<Figure size 1080x720 with 1 Axes>"
      ]
     },
     "metadata": {
      "needs_background": "light"
     },
     "output_type": "display_data"
    }
   ],
   "source": [
    "import string\n",
    "import numpy\n",
    "# set up a random probability distribution over lowercase ASCII characters\n",
    "counts = [ 100*numpy.random.random() for c in string.ascii_lowercase ]\n",
    "sample_dist = [ (c, counts[i]) for (i,c) in enumerate(string.ascii_lowercase) ]\n",
    "vertical_bars(sorted(sample_dist, reverse=True, key=itemgetter(1)))"
   ]
  },
  {
   "cell_type": "code",
   "execution_count": 19,
   "metadata": {
    "slideshow": {
     "slide_type": "slide"
    }
   },
   "outputs": [
    {
     "name": "stdout",
     "output_type": "stream",
     "text": [
      "0.015017244892331421\n",
      "0.06966336818041449\n"
     ]
    }
   ],
   "source": [
    "total = sum(counts)\n",
    "# the following is a dictionary comprehension\n",
    "prob = { c: (counts[i] / total) for (i,c) in enumerate(string.ascii_lowercase) }\n",
    "print(prob['e'])\n",
    "print(prob['z'])"
   ]
  },
  {
   "cell_type": "markdown",
   "metadata": {
    "slideshow": {
     "slide_type": "slide"
    }
   },
   "source": [
    "### Joint Probability Distributions"
   ]
  },
  {
   "cell_type": "code",
   "execution_count": 20,
   "metadata": {
    "slideshow": {
     "slide_type": "skip"
    }
   },
   "outputs": [],
   "source": [
    "# sample letter bigrams from a document with replacement\n",
    "class bigramsample:\n",
    "    \n",
    "    def __init__(self, num):\n",
    "        self.corpus = [c.lower() for sent in nltk.corpus.gutenberg.sents('carroll-alice.txt') for c in ''.join(sent)]\n",
    "        self.bigrams = [ tuple(self.corpus[i:i+2]) for i in range(len(self.corpus)-1) ]\n",
    "        self.sample = [random.choice(self.bigrams) for i in range(num)]\n",
    "\n",
    "    # __str__ creates a printable representation of the object\n",
    "    def __str__(self):\n",
    "        return ''.join(self.sample)"
   ]
  },
  {
   "cell_type": "code",
   "execution_count": 21,
   "metadata": {
    "slideshow": {
     "slide_type": "fragment"
    }
   },
   "outputs": [
    {
     "name": "stdout",
     "output_type": "stream",
     "text": [
      "e,t\n",
      "w,i\n",
      "k,,\n",
      "e,r\n",
      "e,f\n",
      "e,t\n",
      "t,h\n",
      "r,e\n",
      "a,s\n",
      "t,h\n"
     ]
    }
   ],
   "source": [
    "b = bigramsample(100)\n",
    "print('\\n'.join([\"%c,%c\" % (x,y) for (x,y) in b.sample[:10] ])) # print the first 10 bigrams sampled"
   ]
  },
  {
   "cell_type": "code",
   "execution_count": 22,
   "metadata": {
    "slideshow": {
     "slide_type": "slide"
    }
   },
   "outputs": [
    {
     "name": "stdout",
     "output_type": "stream",
     "text": [
      "a t: 1\n",
      "n v: 1\n",
      "e n: 2\n",
      "' t: 1\n",
      "u l: 1\n",
      ". ': 1\n",
      "w s: 1\n",
      "i l: 2\n",
      "k :: 1\n",
      "h i: 1\n",
      "sample size: 100\n"
     ]
    }
   ],
   "source": [
    "s = bigramsample(100)\n",
    "n = defaultdict(int)\n",
    "for (x,y) in s.sample:\n",
    "    n[x,y] += 1\n",
    "for (x,y) in list(n.keys())[:10]: # print 10 items from the sample\n",
    "    print(\"%c %c: %d\" % (x, y, n[x,y]))\n",
    "print(\"sample size:\", sum(n.values()))"
   ]
  },
  {
   "cell_type": "markdown",
   "metadata": {
    "slideshow": {
     "slide_type": "slide"
    }
   },
   "source": [
    "Sample space $S = \\{ a, b, c, \\ldots, z \\}^2$\n",
    "\n",
    "Random variable $X(x,y) = x$ and $Y(x,y) = y$"
   ]
  },
  {
   "cell_type": "code",
   "execution_count": 23,
   "metadata": {
    "slideshow": {
     "slide_type": "fragment"
    }
   },
   "outputs": [
    {
     "name": "stdout",
     "output_type": "stream",
     "text": [
      "a t: 0.010000\n",
      "n v: 0.010000\n",
      "e n: 0.020000\n",
      "' t: 0.010000\n",
      "u l: 0.010000\n",
      ". ': 0.010000\n",
      "w s: 0.010000\n",
      "i l: 0.020000\n",
      "k :: 0.010000\n",
      "h i: 0.010000\n"
     ]
    }
   ],
   "source": [
    "total = sum(n.values())\n",
    "prob = { (x,y): (n[x,y] / total) for (x,y) in list(n.keys()) }\n",
    "for (x,y) in list(prob.keys())[:10]: # print 10 probabilities\n",
    "    print(\"%c %c: %f\" % (x, y, prob[x,y]))"
   ]
  },
  {
   "cell_type": "markdown",
   "metadata": {
    "slideshow": {
     "slide_type": "slide"
    }
   },
   "source": [
    "### Finding the argmax of a joint probability"
   ]
  },
  {
   "cell_type": "markdown",
   "metadata": {
    "slideshow": {
     "slide_type": "fragment"
    }
   },
   "source": [
    "The argmax of a joint probability distribution is the values for the joint random variables that returns the highest _joint_ probability. \n",
    "$$\\hat{x},\\hat{y} = \\arg\\max_{x,y} P(X=x,Y=y)$$\n",
    "Which can be written as:\n",
    "$$\\hat{x},\\hat{y} = \\arg\\max_{x,y} P(x,y)$$"
   ]
  },
  {
   "cell_type": "code",
   "execution_count": 24,
   "metadata": {
    "slideshow": {
     "slide_type": "slide"
    }
   },
   "outputs": [
    {
     "name": "stdout",
     "output_type": "stream",
     "text": [
      "h e: 0.060000\n"
     ]
    }
   ],
   "source": [
    "def P(key):\n",
    "    (x,y) = key\n",
    "    return prob[x,y]\n",
    "# the character with the highest probability is given by argmax_{x,y} P(x,y)\n",
    "(argmax_x, argmax_y) = max(list(n.keys()), key=P)\n",
    "print(\"%c %c: %f\" % (argmax_x, argmax_y, P((argmax_x,argmax_y))))"
   ]
  },
  {
   "cell_type": "markdown",
   "metadata": {
    "slideshow": {
     "slide_type": "slide"
    }
   },
   "source": [
    "### Marginal Probability"
   ]
  },
  {
   "cell_type": "markdown",
   "metadata": {
    "slideshow": {
     "slide_type": "notes"
    }
   },
   "source": [
    "A probability distribution over a subset of variables is a _marginal probability_. We can find the probability value of a particular second character by summing over or _marginalizing out_ the first character probabilities.\n",
    "$$ P(Y=d) = \\sum_{x \\in X} P(X=x, Y=d) $$"
   ]
  },
  {
   "cell_type": "code",
   "execution_count": 25,
   "metadata": {
    "slideshow": {
     "slide_type": "slide"
    }
   },
   "outputs": [
    {
     "name": "stdout",
     "output_type": "stream",
     "text": [
      "{('c', 'e'): 0.01, ('h', 'e'): 0.06, ('r', 'e'): 0.01}\n",
      "P(Y=e)=0.080000\n"
     ]
    }
   ],
   "source": [
    "marginal = { (x,y) : prob[x,y] for (x,y) in list(prob.keys()) if y == argmax_y }\n",
    "print(marginal)\n",
    "print(\"P(Y=%c)=%f\" % (argmax_y, sum(marginal.values())))"
   ]
  },
  {
   "cell_type": "markdown",
   "metadata": {
    "slideshow": {
     "slide_type": "slide"
    }
   },
   "source": [
    "### Expectation"
   ]
  },
  {
   "cell_type": "markdown",
   "metadata": {
    "slideshow": {
     "slide_type": "slide"
    }
   },
   "source": [
    "The expectation with respect to a probability $P$ is a weighted average of the values taken by the random variable (taken from the event space ${\\cal E}$) where the weights are given by the probability $P$.\n",
    "\n",
    "$$ E_P[x] = \\sum_{x \\in {\\cal E}} x \\cdot P(x) $$\n",
    "\n",
    "So if ${\\cal E} = \\{ x_1, x_2, x_3, x_4 \\}$ then:\n",
    "\n",
    "$$ E_P[x] = \\frac{x_1 \\cdot p(x_1) + x_2 \\cdot p(x_2) + x_3 \\cdot p(x_3) + x_4 \\cdot p(x_4)}{p(x_1) + p(x_2) + p(x_3) + p(x_4)} $$\n",
    "\n",
    "which is the same as:\n",
    "\n",
    "$$ E_P[x] = x_1 \\cdot p(x_1) + x_2 \\cdot p(x_2) + x_3 \\cdot p(x_3) + x_4 \\cdot p(x_4) $$\n",
    "\n",
    "For instance if we collect the word lengths from a natural language corpus and collect the probability of occurrence of each length, we can computed the expected value of word length over all words in the vocabulary ${\\cal V}$.\n",
    "\n",
    "$$ E_p[\\ell] = \\sum_{\\ell = \\textrm{len(x) for } x \\in {\\cal V}} \\ell \\cdot P(\\ell) $$"
   ]
  },
  {
   "cell_type": "code",
   "execution_count": 26,
   "metadata": {
    "slideshow": {
     "slide_type": "fragment"
    }
   },
   "outputs": [
    {
     "name": "stdout",
     "output_type": "stream",
     "text": [
      "Book: austen-emma.txt\n",
      "Expected word length: 3.7552682315891226\n",
      "\n",
      "Book: austen-persuasion.txt\n",
      "Expected word length: 3.871031159914843\n",
      "\n",
      "Book: austen-sense.txt\n",
      "Expected word length: 3.881371136350794\n",
      "\n",
      "Book: bible-kjv.txt\n",
      "Expected word length: 3.4478209159613487\n",
      "\n",
      "Book: blake-poems.txt\n",
      "Expected word length: 3.503471390950443\n",
      "\n",
      "Book: bryant-stories.txt\n",
      "Expected word length: 3.5004949336788864\n",
      "\n",
      "Book: burgess-busterbrown.txt\n",
      "Expected word length: 3.5167431313610713\n",
      "\n",
      "Book: carroll-alice.txt\n",
      "Expected word length: 3.4010260920551154\n",
      "\n",
      "Book: chesterton-ball.txt\n",
      "Expected word length: 3.8245907047713303\n",
      "\n",
      "Book: chesterton-brown.txt\n",
      "Expected word length: 3.790804410722379\n",
      "\n",
      "Book: chesterton-thursday.txt\n",
      "Expected word length: 3.774276508748356\n",
      "\n",
      "Book: edgeworth-parents.txt\n",
      "Expected word length: 3.50881265338479\n",
      "\n",
      "Book: melville-moby_dick.txt\n",
      "Expected word length: 3.830411128023649\n",
      "\n",
      "Book: milton-paradise.txt\n",
      "Expected word length: 3.887312161115415\n",
      "\n",
      "Book: shakespeare-caesar.txt\n",
      "Expected word length: 3.444121859636899\n",
      "\n",
      "Book: shakespeare-hamlet.txt\n",
      "Expected word length: 3.4637312633832975\n",
      "\n",
      "Book: shakespeare-macbeth.txt\n",
      "Expected word length: 3.4653414001728606\n",
      "\n",
      "Book: whitman-leaves.txt\n",
      "Expected word length: 3.6962481356895207\n",
      "\n"
     ]
    }
   ],
   "source": [
    "def expectation(dist):\n",
    "    sum = 0.0\n",
    "    for len in dist.freqdist():\n",
    "        sum += len * dist.prob(len)\n",
    "        #print len, dist.prob(len)\n",
    "    return sum\n",
    "        \n",
    "for book in nltk.corpus.gutenberg.fileids():\n",
    "    w_len = [len(w) for w in nltk.corpus.gutenberg.words(book)]\n",
    "    len_fd = nltk.FreqDist(w_len)\n",
    "    len_d = nltk.MLEProbDist(len_fd)\n",
    "    print(\"Book:\", book)\n",
    "    print(\"Expected word length:\", expectation(len_d))\n",
    "    print()"
   ]
  },
  {
   "cell_type": "markdown",
   "metadata": {},
   "source": [
    "### Entropy"
   ]
  },
  {
   "cell_type": "markdown",
   "metadata": {},
   "source": [
    "Entropy is the expected number of bits needed to represent a probability distribution:\n",
    "\n",
    "$$ H(p) = - E_p[ log_2(p(x)) ] $$\n",
    "\n",
    "Or expanding the definition of expectation:\n",
    "\n",
    "$$ H(p) = - \\sum_{x \\in {\\cal E}} p(x) \\cdot log_2(p(x)) $$"
   ]
  },
  {
   "cell_type": "code",
   "execution_count": 28,
   "metadata": {},
   "outputs": [
    {
     "name": "stdout",
     "output_type": "stream",
     "text": [
      "Book: austen-emma.txt\n",
      "Entropy: 8.873152285226238\n",
      "\n",
      "Book: austen-persuasion.txt\n",
      "Entropy: 8.859615924145508\n",
      "\n",
      "Book: austen-sense.txt\n",
      "Entropy: 8.89502303490741\n",
      "\n",
      "Book: bible-kjv.txt\n",
      "Entropy: 8.533251092134407\n",
      "\n",
      "Book: blake-poems.txt\n",
      "Entropy: 8.771766636117121\n",
      "\n",
      "Book: bryant-stories.txt\n",
      "Entropy: 8.762926926466157\n",
      "\n",
      "Book: burgess-busterbrown.txt\n",
      "Entropy: 8.326262138210373\n",
      "\n",
      "Book: carroll-alice.txt\n",
      "Entropy: 8.4860818642139\n",
      "\n",
      "Book: chesterton-ball.txt\n",
      "Entropy: 9.293358723948293\n",
      "\n",
      "Book: chesterton-brown.txt\n",
      "Entropy: 9.275800529530137\n",
      "\n",
      "Book: chesterton-thursday.txt\n",
      "Entropy: 9.119791242411557\n",
      "\n",
      "Book: edgeworth-parents.txt\n",
      "Entropy: 8.982968867778386\n",
      "\n",
      "Book: melville-moby_dick.txt\n",
      "Entropy: 9.647923151844278\n",
      "\n",
      "Book: milton-paradise.txt\n",
      "Entropy: 9.674613746909916\n",
      "\n",
      "Book: shakespeare-caesar.txt\n",
      "Entropy: 8.785886795219731\n",
      "\n",
      "Book: shakespeare-hamlet.txt\n",
      "Entropy: 9.045087184622895\n",
      "\n",
      "Book: shakespeare-macbeth.txt\n",
      "Entropy: 9.00374321714706\n",
      "\n",
      "Book: whitman-leaves.txt\n",
      "Entropy: 9.390609764209854\n",
      "\n"
     ]
    }
   ],
   "source": [
    "import math\n",
    "def entropy(dist):\n",
    "    score = 0\n",
    "    for k in dist.freqdist():\n",
    "        score += dist.prob(k) * math.log(dist.prob(k),2)\n",
    "    return -1*score\n",
    "    \n",
    "for book in nltk.corpus.gutenberg.fileids():\n",
    "    words = [w for w in nltk.corpus.gutenberg.words(book)]\n",
    "    words_fd = nltk.FreqDist(words)\n",
    "    wprob = nltk.MLEProbDist(words_fd)\n",
    "    print(\"Book:\", book)\n",
    "    print(\"Entropy:\", entropy(wprob))\n",
    "    print()"
   ]
  },
  {
   "cell_type": "markdown",
   "metadata": {},
   "source": [
    "### Cross Entropy\n",
    "\n",
    "Cross Entropy or the Kullback-Liebler divergence from a probability distribution $q$ to another probability distribution $p$ over the same event space is defined as the expected difference between using probability distribution $q$ to encode the samples produced from probability distribution $p$:\n",
    "\n",
    "$$  D(p \\| q) = - E_{ p(x) } \\left[ \\log_2 \\frac{q(x)}{p(x)} \\right] $$\n",
    "\n",
    "Writing out the expectation we get:\n",
    "\n",
    "$$ D(p \\| q) = - \\sum_{x \\in {\\cal E}} p(x) \\log_2 \\frac{q(x)}{p(x)} $$\n",
    "\n",
    "Define:\n",
    "$$H(p) = - \\sum_{x} p(x) \\log_2 p(x)$$\n",
    "$$H(p,q) = - \\sum_{x} p(x) \\log_2 q(x)$$\n",
    "\n",
    "Notice that $H(p)$ is just entropy of probability distribution $p$. Then we can write:\n",
    "\n",
    "$$ D(p \\| q) = H(p,q) - H(p) $$"
   ]
  },
  {
   "cell_type": "code",
   "execution_count": 30,
   "metadata": {},
   "outputs": [
    {
     "name": "stdout",
     "output_type": "stream",
     "text": [
      "Book1: austen-emma.txt, Book2: austen-persuasion.txt\n",
      "Cross Entropy: -18.62614399925599\n",
      "\n",
      "Book1: austen-emma.txt, Book2: austen-sense.txt\n",
      "Cross Entropy: -18.62194802829501\n",
      "\n",
      "Book1: austen-emma.txt, Book2: bible-kjv.txt\n",
      "Cross Entropy: -20.585372671682723\n",
      "\n",
      "Book1: austen-emma.txt, Book2: blake-poems.txt\n",
      "Cross Entropy: -18.971264688756463\n",
      "\n",
      "Book1: austen-emma.txt, Book2: bryant-stories.txt\n",
      "Cross Entropy: -19.00771105829231\n",
      "\n",
      "Book1: austen-emma.txt, Book2: burgess-busterbrown.txt\n",
      "Cross Entropy: -18.925326988469592\n",
      "\n",
      "Book1: austen-emma.txt, Book2: carroll-alice.txt\n",
      "Cross Entropy: -18.942102954717413\n",
      "\n",
      "Book1: austen-emma.txt, Book2: chesterton-ball.txt\n",
      "Cross Entropy: -19.120557487378825\n",
      "\n",
      "Book1: austen-emma.txt, Book2: chesterton-brown.txt\n",
      "Cross Entropy: -19.052705303228986\n",
      "\n",
      "Book1: austen-emma.txt, Book2: chesterton-thursday.txt\n",
      "Cross Entropy: -19.136972434602107\n",
      "\n",
      "Book1: austen-emma.txt, Book2: edgeworth-parents.txt\n",
      "Cross Entropy: -18.89448005467921\n",
      "\n",
      "Book1: austen-emma.txt, Book2: melville-moby_dick.txt\n",
      "Cross Entropy: -19.360917770330566\n",
      "\n",
      "Book1: austen-emma.txt, Book2: milton-paradise.txt\n",
      "Cross Entropy: -19.805420418016034\n",
      "\n",
      "Book1: austen-emma.txt, Book2: shakespeare-caesar.txt\n",
      "Cross Entropy: -19.576494041311534\n",
      "\n",
      "Book1: austen-emma.txt, Book2: shakespeare-hamlet.txt\n",
      "Cross Entropy: -19.6627159491278\n",
      "\n",
      "Book1: austen-emma.txt, Book2: shakespeare-macbeth.txt\n",
      "Cross Entropy: -19.577524342568992\n",
      "\n",
      "Book1: austen-emma.txt, Book2: whitman-leaves.txt\n",
      "Cross Entropy: -19.8194579182176\n",
      "\n",
      "Book1: austen-persuasion.txt, Book2: austen-emma.txt\n",
      "Cross Entropy: -18.887523898100994\n",
      "\n",
      "Book1: austen-persuasion.txt, Book2: austen-sense.txt\n",
      "Cross Entropy: -18.840304387587672\n",
      "\n",
      "Book1: austen-persuasion.txt, Book2: bible-kjv.txt\n",
      "Cross Entropy: -20.575263986749697\n",
      "\n",
      "Book1: austen-persuasion.txt, Book2: blake-poems.txt\n",
      "Cross Entropy: -19.06548067469837\n",
      "\n",
      "Book1: austen-persuasion.txt, Book2: bryant-stories.txt\n",
      "Cross Entropy: -19.158537171245783\n",
      "\n",
      "Book1: austen-persuasion.txt, Book2: burgess-busterbrown.txt\n",
      "Cross Entropy: -19.05772436005519\n",
      "\n",
      "Book1: austen-persuasion.txt, Book2: carroll-alice.txt\n",
      "Cross Entropy: -19.09770717145767\n",
      "\n",
      "Book1: austen-persuasion.txt, Book2: chesterton-ball.txt\n",
      "Cross Entropy: -19.270528194941917\n",
      "\n",
      "Book1: austen-persuasion.txt, Book2: chesterton-brown.txt\n",
      "Cross Entropy: -19.205045271088714\n",
      "\n",
      "Book1: austen-persuasion.txt, Book2: chesterton-thursday.txt\n",
      "Cross Entropy: -19.29393445925216\n",
      "\n",
      "Book1: austen-persuasion.txt, Book2: edgeworth-parents.txt\n",
      "Cross Entropy: -19.083313684886143\n",
      "\n",
      "Book1: austen-persuasion.txt, Book2: melville-moby_dick.txt\n",
      "Cross Entropy: -19.496952501591206\n",
      "\n",
      "Book1: austen-persuasion.txt, Book2: milton-paradise.txt\n",
      "Cross Entropy: -19.855631262541507\n",
      "\n",
      "Book1: austen-persuasion.txt, Book2: shakespeare-caesar.txt\n",
      "Cross Entropy: -19.679618619071277\n",
      "\n",
      "Book1: austen-persuasion.txt, Book2: shakespeare-hamlet.txt\n",
      "Cross Entropy: -19.763505114323443\n",
      "\n",
      "Book1: austen-persuasion.txt, Book2: shakespeare-macbeth.txt\n",
      "Cross Entropy: -19.653885838877244\n",
      "\n",
      "Book1: austen-persuasion.txt, Book2: whitman-leaves.txt\n",
      "Cross Entropy: -19.935360839410592\n",
      "\n",
      "Book1: austen-sense.txt, Book2: austen-emma.txt\n",
      "Cross Entropy: -18.76991624898378\n",
      "\n",
      "Book1: austen-sense.txt, Book2: austen-persuasion.txt\n",
      "Cross Entropy: -18.717432963703104\n",
      "\n",
      "Book1: austen-sense.txt, Book2: bible-kjv.txt\n",
      "Cross Entropy: -20.535766170541173\n",
      "\n",
      "Book1: austen-sense.txt, Book2: blake-poems.txt\n",
      "Cross Entropy: -19.002670244583115\n",
      "\n",
      "Book1: austen-sense.txt, Book2: bryant-stories.txt\n",
      "Cross Entropy: -19.09797885438281\n",
      "\n",
      "Book1: austen-sense.txt, Book2: burgess-busterbrown.txt\n",
      "Cross Entropy: -19.051917825454446\n",
      "\n",
      "Book1: austen-sense.txt, Book2: carroll-alice.txt\n",
      "Cross Entropy: -19.042281957448807\n",
      "\n",
      "Book1: austen-sense.txt, Book2: chesterton-ball.txt\n",
      "Cross Entropy: -19.237269544955485\n",
      "\n",
      "Book1: austen-sense.txt, Book2: chesterton-brown.txt\n",
      "Cross Entropy: -19.174351339814013\n",
      "\n",
      "Book1: austen-sense.txt, Book2: chesterton-thursday.txt\n",
      "Cross Entropy: -19.25753940037354\n",
      "\n",
      "Book1: austen-sense.txt, Book2: edgeworth-parents.txt\n",
      "Cross Entropy: -18.973783748414938\n",
      "\n",
      "Book1: austen-sense.txt, Book2: melville-moby_dick.txt\n",
      "Cross Entropy: -19.45013202678596\n",
      "\n",
      "Book1: austen-sense.txt, Book2: milton-paradise.txt\n",
      "Cross Entropy: -19.787625784001918\n",
      "\n",
      "Book1: austen-sense.txt, Book2: shakespeare-caesar.txt\n",
      "Cross Entropy: -19.6434549566207\n",
      "\n",
      "Book1: austen-sense.txt, Book2: shakespeare-hamlet.txt\n",
      "Cross Entropy: -19.71876507355766\n",
      "\n",
      "Book1: austen-sense.txt, Book2: shakespeare-macbeth.txt\n",
      "Cross Entropy: -19.620469987798234\n",
      "\n",
      "Book1: austen-sense.txt, Book2: whitman-leaves.txt\n",
      "Cross Entropy: -19.871086715279798\n",
      "\n"
     ]
    }
   ],
   "source": [
    "def cross_entropy(p,q):\n",
    "    H_p_q = 0\n",
    "    for k in p.freqdist():\n",
    "        H_p_q += p.prob(k) * math.log(q.prob(k),2)\n",
    "    return(H_p_q - entropy(p))\n",
    "\n",
    "wprob = {}\n",
    "for book in nltk.corpus.gutenberg.fileids():\n",
    "    words = [w for w in nltk.corpus.gutenberg.words(book)]\n",
    "    words_fd = nltk.FreqDist(words)\n",
    "    # Instead of the maximum likelihood (MLE) we use a Laplace\n",
    "    # distribution to handle words that are used in one book\n",
    "    # but not the other\n",
    "    wprob[book] = nltk.LaplaceProbDist(words_fd)\n",
    "\n",
    "for book1 in nltk.corpus.gutenberg.fileids():\n",
    "    for book2 in nltk.corpus.gutenberg.fileids():\n",
    "        if book1.startswith(\"austen-\") and book1 != book2:\n",
    "            print(\"Book1: {}, Book2: {}\".format(book1, book2))\n",
    "            print(\"Cross Entropy:\", cross_entropy(wprob[book1], wprob[book2]))\n",
    "            print()"
   ]
  },
  {
   "cell_type": "markdown",
   "metadata": {},
   "source": [
    "### Mutual Information\n",
    "\n",
    "Mutual information or $I(X;Y)$ computes the similarity between two random variables $X$ and $Y$ by computing the cross entropy between assuming independence between $X$ and $Y$, which is $p(X)p(Y)$ and not assuming independence $p(X,Y)$ which is the joint probability. \n",
    "\n",
    "$$ I(X;Y) = D(p(x,y) \\| p(x)p(y)) = \\sum_x \\sum_y p(x,y) \\log_2 \\frac{p(x,y)}{p(x)p(y)} $$\n",
    "\n",
    "The reasoning is: if the distribution $P(X,Y)$ is close to $P(X)P(Y)$ then the variables $X$ and $Y$ are independently distributed."
   ]
  },
  {
   "cell_type": "code",
   "execution_count": 29,
   "metadata": {},
   "outputs": [
    {
     "name": "stdout",
     "output_type": "stream",
     "text": [
      "Book: austen-emma.txt\n",
      "Total MI Score: 3.8394953949098727\n",
      "mrs weston\n",
      "had been\n",
      "frank churchill\n",
      "have been\n",
      "could not\n",
      "miss woodhouse\n",
      "she had\n",
      "any thing\n",
      "she was\n",
      "mrs elton\n",
      "did not\n",
      "miss fairfax\n",
      "jane fairfax\n",
      "miss bates\n",
      "every thing \n",
      "\n",
      "\n",
      "Book: austen-persuasion.txt\n",
      "Total MI Score: 4.323107083650349\n",
      "captain wentworth\n",
      "had been\n",
      "lady russell\n",
      "sir walter\n",
      "she had\n",
      "could not\n",
      "they were\n",
      "have been\n",
      "did not\n",
      "mrs clay\n",
      "mrs smith\n",
      "she was\n",
      "mrs musgrove\n",
      "she could\n",
      "captain benwick \n",
      "\n",
      "\n",
      "Book: austen-sense.txt\n",
      "Total MI Score: 4.070847559161385\n",
      "mrs jennings\n",
      "colonel brandon\n",
      "sir john\n",
      "lady middleton\n",
      "have been\n",
      "mrs dashwood\n",
      "could not\n",
      "did not\n",
      "had been\n",
      "she had\n",
      "her sister\n",
      "they were\n",
      "she was\n",
      "every thing\n",
      "her own \n",
      "\n",
      "\n"
     ]
    }
   ],
   "source": [
    "import nltk\n",
    "import math\n",
    "from operator import itemgetter\n",
    "\n",
    "verbose = False\n",
    "reverse_flag = True\n",
    "\n",
    "def collocations(words):\n",
    "    # Count the words and bigrams\n",
    "    wfd = nltk.FreqDist(words)\n",
    "    pfd = nltk.FreqDist(tuple(words[i:i+2]) for i in range(len(words)-1))\n",
    "\n",
    "    scored = [((w1,w2), mi_score(w1, w2, wfd, pfd)) for w1, w2 in pfd]\n",
    "    total_mi_score = 0.0\n",
    "    for ((w1, w2), score) in scored:\n",
    "        total_mi_score += score\n",
    "    print(\"Total MI Score:\", total_mi_score)\n",
    "    scored.sort(key=itemgetter(1), reverse=reverse_flag)\n",
    "    return list(map(itemgetter(0), scored))\n",
    "\n",
    "def mi_score(word1, word2, wfd, pfd):\n",
    "    wpd = nltk.MLEProbDist(wfd)\n",
    "    ppd = nltk.MLEProbDist(pfd)\n",
    "    px = wpd.prob(word1)\n",
    "    py = wpd.prob(word2)\n",
    "    pxy = ppd.prob( (word1, word2) )\n",
    "    mutual_information_score = pxy * math.log((pxy / (px * py)), 2)\n",
    "    if verbose:\n",
    "        print('mi_score: %s, %s: px=%lf py=%lf pxy=%lf mi_score:%lf' % (word1, word2, px, py, pxy, mutual_information_score))\n",
    "    return mutual_information_score\n",
    "\n",
    "def score(word1, word2, wfd, pfd, power=3):\n",
    "    freq1 = wfd[word1]\n",
    "    freq2 = wfd[word2]\n",
    "    freq12 = pfd[(word1, word2)]\n",
    "    return freq12 ** power / float(freq1 * freq2)\n",
    "\n",
    "austenbooks = ['austen-emma.txt', 'austen-persuasion.txt', 'austen-sense.txt']\n",
    "#austenbooks = ['austen-emma.txt']\n",
    "for book in austenbooks:\n",
    "    words = [ word.lower() for word in nltk.corpus.gutenberg.words(book) if len(word) > 2]\n",
    "    print(\"Book:\", book)\n",
    "    print(\"\\n\".join([w1+' '+w2 for w1, w2 in collocations(words)[:15]]), \"\\n\\n\")"
   ]
  },
  {
   "cell_type": "markdown",
   "metadata": {
    "slideshow": {
     "slide_type": "slide"
    }
   },
   "source": [
    "### The End"
   ]
  },
  {
   "cell_type": "code",
   "execution_count": null,
   "metadata": {
    "slideshow": {
     "slide_type": "skip"
    }
   },
   "outputs": [],
   "source": [
    "#from IPython.core.display import HTML\n",
    "\n",
    "#def css_styling():\n",
    "#    styles = open(\"../css/notebook.css\", \"r\").read()\n",
    "#    return HTML(styles)\n",
    "#css_styling()"
   ]
  },
  {
   "cell_type": "code",
   "execution_count": null,
   "metadata": {
    "slideshow": {
     "slide_type": "skip"
    }
   },
   "outputs": [],
   "source": [
    "def horizontal_bars(fdist):\n",
    "    samples = fdist.samples()\n",
    "    freqs = [ fdist[sample] for sample in samples ]\n",
    "    labels = [\"'\" + str(s) + \"'\" for s in samples]\n",
    "    fig, ax1 = plt.subplots(figsize=(15, 10))\n",
    "    plt.subplots_adjust(left=0.115, right=0.88)\n",
    "    pos = numpy.arange(len(labels))+0.5    # Center bars on the Y-axis ticks\n",
    "    rects = ax1.barh(pos, freqs, align='center', height=0.5, color='m')\n",
    "    ax1.axis([0, fdist[fdist.max()], 0, len(labels)])\n",
    "    pylab.yticks(pos, labels)\n",
    "    plt.show()"
   ]
  }
 ],
 "metadata": {
  "kernelspec": {
   "display_name": "Python 3",
   "language": "python",
   "name": "python3"
  },
  "language_info": {
   "codemirror_mode": {
    "name": "ipython",
    "version": 3
   },
   "file_extension": ".py",
   "mimetype": "text/x-python",
   "name": "python",
   "nbconvert_exporter": "python",
   "pygments_lexer": "ipython3",
   "version": "3.7.4"
  }
 },
 "nbformat": 4,
 "nbformat_minor": 1
}
